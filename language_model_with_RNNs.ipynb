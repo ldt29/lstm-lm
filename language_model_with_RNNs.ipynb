{
 "cells": [
  {
   "attachments": {},
   "cell_type": "markdown",
   "metadata": {},
   "source": [
    "# Train and Improve an Language Model with PyTorch"
   ]
  },
  {
   "attachments": {},
   "cell_type": "markdown",
   "metadata": {},
   "source": [
    "## Set up"
   ]
  },
  {
   "cell_type": "code",
   "execution_count": 2,
   "metadata": {},
   "outputs": [
    {
     "name": "stdout",
     "output_type": "stream",
     "text": [
      "cuda\n"
     ]
    }
   ],
   "source": [
    "import torch\n",
    "import torch.nn as nn\n",
    "import torch.nn.functional as F\n",
    "import torch.optim as optim\n",
    "from torch.utils.data import DataLoader, Dataset\n",
    "import numpy as np\n",
    "import random\n",
    "import os\n",
    "from datetime import datetime\n",
    "import math\n",
    "import matplotlib.pyplot as plt\n",
    "\n",
    "device = torch.device(\"cuda\" if torch.cuda.is_available() else \"cpu\")\n",
    "print(device)"
   ]
  },
  {
   "attachments": {},
   "cell_type": "markdown",
   "metadata": {},
   "source": [
    "##  Training a Language Model with RNNs and LSTMs"
   ]
  },
  {
   "attachments": {},
   "cell_type": "markdown",
   "metadata": {},
   "source": [
    "### Dataset and Preprocessing"
   ]
  },
  {
   "cell_type": "code",
   "execution_count": 3,
   "metadata": {},
   "outputs": [
    {
     "name": "stdout",
     "output_type": "stream",
     "text": [
      "42068\n",
      "[['aer', 'banknote', 'berlitz', 'calloway', 'centrust', 'cluett', 'fromstein', 'gitano', 'guterman', 'hydro-quebec', 'ipo', 'kia', 'memotec', 'mlx', 'nahb', 'punts', 'rake', 'regatta', 'rubens', 'sim', 'snack-food', 'ssangyong', 'swapo', 'wachter', '<eos>'], ['pierre', '<unk>', 'N', 'years', 'old', 'will', 'join', 'the', 'board', 'as', 'a', 'nonexecutive', 'director', 'nov.', 'N', '<eos>'], ['mr.', '<unk>', 'is', 'chairman', 'of', '<unk>', 'n.v.', 'the', 'dutch', 'publishing', 'group', '<eos>'], ['rudolph', '<unk>', 'N', 'years', 'old', 'and', 'former', 'chairman', 'of', 'consolidated', 'gold', 'fields', 'plc', 'was', 'named', 'a', 'nonexecutive', 'director', 'of', 'this', 'british', 'industrial', 'conglomerate', '<eos>'], ['a', 'form', 'of', 'asbestos', 'once', 'used', 'to', 'make', 'kent', 'cigarette', 'filters', 'has', 'caused', 'a', 'high', 'percentage', 'of', 'cancer', 'deaths', 'among', 'a', 'group', 'of', 'workers', 'exposed', 'to', 'it', 'more', 'than', 'N', 'years', 'ago', 'researchers', 'reported', '<eos>']]\n"
     ]
    }
   ],
   "source": [
    "# Read the training, validation, and testing files, and replace newlines with the \"<eos>\" token.\n",
    "def read_file(file_path):\n",
    "    with open(file_path, 'r') as f:\n",
    "        lines = f.readlines()\n",
    "        lines = [line.strip() for line in lines]\n",
    "        lines = [line.split() + ['<eos>'] for line in lines]\n",
    "        return lines\n",
    "ptb_train_lines = read_file('penn-treebank/ptb.train.txt')\n",
    "ptb_valid_lines = read_file('penn-treebank/ptb.valid.txt')\n",
    "ptb_test_lines = read_file('penn-treebank/ptb.test.txt')\n",
    "print(len(ptb_train_lines))\n",
    "print(ptb_train_lines[:5])"
   ]
  },
  {
   "attachments": {},
   "cell_type": "markdown",
   "metadata": {},
   "source": [
    "### DataLoader"
   ]
  },
  {
   "cell_type": "code",
   "execution_count": 4,
   "metadata": {},
   "outputs": [
    {
     "name": "stdout",
     "output_type": "stream",
     "text": [
      "929589\n",
      "['aer', 'banknote', 'berlitz', 'calloway', 'centrust', 'cluett', 'fromstein', 'gitano', 'guterman', 'hydro-quebec', 'ipo', 'kia', 'memotec', 'mlx', 'nahb', 'punts', 'rake', 'regatta', 'rubens', 'sim', 'snack-food', 'ssangyong', 'swapo', 'wachter', '<eos>', 'pierre', '<unk>', 'N', 'years', 'old', 'will', 'join', 'the', 'board', 'as', 'a', 'nonexecutive', 'director', 'nov.', 'N', '<eos>', 'mr.', '<unk>', 'is', 'chairman', 'of', '<unk>', 'n.v.', 'the', 'dutch', 'publishing', 'group', '<eos>', 'rudolph', '<unk>', 'N', 'years', 'old', 'and', 'former', 'chairman', 'of', 'consolidated', 'gold', 'fields', 'plc', 'was', 'named', 'a', 'nonexecutive', 'director', 'of', 'this', 'british', 'industrial', 'conglomerate', '<eos>', 'a', 'form', 'of', 'asbestos', 'once', 'used', 'to', 'make', 'kent', 'cigarette', 'filters', 'has', 'caused', 'a', 'high', 'percentage', 'of', 'cancer', 'deaths', 'among', 'a', 'group', 'of']\n"
     ]
    }
   ],
   "source": [
    "# Concatenate all articles in the training set into one long sequence.\n",
    "ptb_train_tokens = [token for line in ptb_train_lines for token in line]\n",
    "print(len(ptb_train_tokens))\n",
    "print(ptb_train_tokens[:100])"
   ]
  },
  {
   "cell_type": "code",
   "execution_count": 5,
   "metadata": {},
   "outputs": [],
   "source": [
    "# Generate batches with shape (batch size, sequence_length + 1).\n",
    "# Continuous Batching\n",
    "# use PyTorch's DataLoader class but overwrite the \"iter\" method.\n",
    "# The \"iter\" method is called when we use a for loop to iterate over the DataLoader object.\n",
    "# We will overwrite this method to return a generator that yields batches of data.\n",
    "# The \"init_epoch\" method is called at the end of each epoch to shuffle the data.\n",
    "# The \"shuffle_batches\" method shuffles the batches.\n",
    "# The \"__len__\" method returns the number of batches in the dataset.\n",
    "# The \"__getitem__\" method returns a batch of data given an index.\n",
    "\n",
    "class PennTreebankDataset(Dataset):\n",
    "    def __init__(self, data_lines, sequence_length, batch_size):\n",
    "        self.data_lines = data_lines\n",
    "        self.data = None\n",
    "        self.sequence_length = sequence_length\n",
    "        self.batch_size = batch_size\n",
    "        self.split_length = None\n",
    "        self.init_epoch()\n",
    "\n",
    "    def __len__(self):\n",
    "        return self.split_length  // self.sequence_length * self.batch_size\n",
    "    \n",
    "    def __getitem__(self, idx):\n",
    "        # Split the long sequence into batch size equal-length sequences\n",
    "        # For each split sequence, cut them into continuous parts\n",
    "        # Batch k is composed of the kth part of all the sequences.\n",
    "        batch_x = idx % self.batch_size\n",
    "        batch_y = idx // self.batch_size\n",
    "        inputs = self.data[batch_x * self.split_length + batch_y*self.sequence_length: batch_x * self.split_length + (batch_y+1)*self.sequence_length]\n",
    "        outputs = self.data[batch_x * self.split_length + batch_y*self.sequence_length + 1: batch_x * self.split_length + (batch_y+1)*self.sequence_length + 1]\n",
    "        return inputs, outputs\n",
    "    \n",
    "    def init_epoch(self):\n",
    "        self.data = self.shuffle_lines(self.data_lines)\n",
    "        self.split_length = len(self.data) // self.batch_size\n",
    "\n",
    "    def shuffle_lines(self, data_lines):\n",
    "        np.random.shuffle(data_lines)\n",
    "        data = [token for line in data_lines for token in line]\n",
    "        return self.tensor_from_tokens(data)\n",
    "    \n",
    "    def tensor_from_tokens(self, tokens):\n",
    "        token_ids = [vocab[token] for token in tokens]\n",
    "        return torch.tensor(token_ids, dtype=torch.long, device=device)\n",
    "    "
   ]
  },
  {
   "attachments": {},
   "cell_type": "markdown",
   "metadata": {},
   "source": [
    "### Word Embedding Initialization"
   ]
  },
  {
   "cell_type": "code",
   "execution_count": 6,
   "metadata": {},
   "outputs": [
    {
     "name": "stdout",
     "output_type": "stream",
     "text": [
      "Loading Glove embeddings...\n",
      "Done.\n",
      "torch.Size([400000, 300])\n",
      "tensor([ 4.6560e-02,  2.1318e-01, -7.4364e-03, -4.5854e-01, -3.5639e-02,\n",
      "         2.3643e-01, -2.8836e-01,  2.1521e-01, -1.3486e-01, -1.6413e+00,\n",
      "        -2.6091e-01,  3.2434e-02,  5.6621e-02, -4.3296e-02, -2.1672e-02,\n",
      "         2.2476e-01, -7.5129e-02, -6.7018e-02, -1.4247e-01,  3.8825e-02,\n",
      "        -1.8951e-01,  2.9977e-01,  3.9305e-01,  1.7887e-01, -1.7343e-01,\n",
      "        -2.1178e-01,  2.3617e-01, -6.3681e-02, -4.2318e-01, -1.1661e-01,\n",
      "         9.3754e-02,  1.7296e-01, -3.3073e-01,  4.9112e-01, -6.8995e-01,\n",
      "        -9.2462e-02,  2.4742e-01, -1.7991e-01,  9.7908e-02,  8.3118e-02,\n",
      "         1.5299e-01, -2.7276e-01, -3.8934e-02,  5.4453e-01,  5.3737e-01,\n",
      "         2.9105e-01, -7.3514e-03,  4.7880e-02, -4.0760e-01, -2.6759e-02,\n",
      "         1.7919e-01,  1.0977e-02, -1.0963e-01, -2.6395e-01,  7.3990e-02,\n",
      "         2.6236e-01, -1.5080e-01,  3.4623e-01,  2.5758e-01,  1.1971e-01,\n",
      "        -3.7135e-02, -7.1593e-02,  4.3898e-01, -4.0764e-02,  1.6425e-02,\n",
      "        -4.4640e-01,  1.7197e-01,  4.6246e-02,  5.8639e-02,  4.1499e-02,\n",
      "         5.3948e-01,  5.2495e-01,  1.1361e-01, -4.8315e-02, -3.6385e-01,\n",
      "         1.8704e-01,  9.2761e-02, -1.1129e-01, -4.2085e-01,  1.3992e-01,\n",
      "        -3.9338e-01, -6.7945e-02,  1.2188e-01,  1.6707e-01,  7.5169e-02,\n",
      "        -1.5529e-02, -1.9499e-01,  1.9638e-01,  5.3194e-02,  2.5170e-01,\n",
      "        -3.4845e-01, -1.0638e-01, -3.4692e-01, -1.9024e-01, -2.0040e-01,\n",
      "         1.2154e-01, -2.9208e-01,  2.3353e-02, -1.1618e-01, -3.5768e-01,\n",
      "         6.2304e-02,  3.5884e-01,  2.9060e-02,  7.3005e-03,  4.9482e-03,\n",
      "        -1.5048e-01, -1.2313e-01,  1.9337e-01,  1.2173e-01,  4.4503e-01,\n",
      "         2.5147e-01,  1.0781e-01, -1.7716e-01,  3.8691e-02,  8.1530e-02,\n",
      "         1.4667e-01,  6.3666e-02,  6.1332e-02, -7.5569e-02, -3.7724e-01,\n",
      "         1.5850e-02, -3.0342e-01,  2.8374e-01, -4.2013e-02, -4.0715e-02,\n",
      "        -1.5269e-01,  7.4980e-02,  1.5577e-01,  1.0433e-01,  3.1393e-01,\n",
      "         1.9309e-01,  1.9429e-01,  1.5185e-01, -1.0192e-01, -1.8785e-02,\n",
      "         2.0791e-01,  1.3366e-01,  1.9038e-01, -2.5558e-01,  3.0400e-01,\n",
      "        -1.8960e-02,  2.0147e-01, -4.2110e-01, -7.5156e-03, -2.7977e-01,\n",
      "        -1.9314e-01,  4.6204e-02,  1.9971e-01, -3.0207e-01,  2.5735e-01,\n",
      "         6.8107e-01, -1.9409e-01,  2.3984e-01,  2.2493e-01,  6.5224e-01,\n",
      "        -1.3561e-01, -1.7383e-01, -4.8209e-02, -1.1860e-01,  2.1588e-03,\n",
      "        -1.9525e-02,  1.1948e-01,  1.9346e-01, -4.0820e-01, -8.2966e-02,\n",
      "         1.6626e-01, -1.0601e-01,  3.5861e-01,  1.6922e-01,  7.2590e-02,\n",
      "        -2.4803e-01, -1.0024e-01, -5.2491e-01, -1.7745e-01, -3.6647e-01,\n",
      "         2.6180e-01, -1.2077e-02,  8.3190e-02, -2.1528e-01,  4.1045e-01,\n",
      "         2.9136e-01,  3.0869e-01,  7.8864e-02,  3.2207e-01, -4.1023e-02,\n",
      "        -1.0970e-01, -9.2041e-02, -1.2339e-01, -1.6416e-01,  3.5382e-01,\n",
      "        -8.2774e-02,  3.3171e-01, -2.4738e-01, -4.8928e-02,  1.5746e-01,\n",
      "         1.8988e-01, -2.6642e-02,  6.3315e-02, -1.0673e-02,  3.4089e-01,\n",
      "         1.4106e+00,  1.3417e-01,  2.8191e-01, -2.5940e-01,  5.5267e-02,\n",
      "        -5.2425e-02, -2.5789e-01,  1.9127e-02, -2.2084e-02,  3.2113e-01,\n",
      "         6.8818e-02,  5.1207e-01,  1.6478e-01, -2.0194e-01,  2.9232e-01,\n",
      "         9.8575e-02,  1.3145e-02, -1.0652e-01,  1.3510e-01, -4.5332e-02,\n",
      "         2.0697e-01, -4.8425e-01, -4.4706e-01,  3.3305e-03,  2.9264e-03,\n",
      "        -1.0975e-01, -2.3325e-01,  2.2442e-01, -1.0503e-01,  1.2339e-01,\n",
      "         1.0978e-01,  4.8994e-02, -2.5157e-01,  4.0319e-01,  3.5318e-01,\n",
      "         1.8651e-01, -2.3622e-02, -1.2734e-01,  1.1475e-01,  2.7359e-01,\n",
      "        -2.1866e-01,  1.5794e-02,  8.1754e-01, -2.3792e-02, -8.5469e-01,\n",
      "        -1.6203e-01,  1.8076e-01,  2.8014e-02, -1.4340e-01,  1.3139e-03,\n",
      "        -9.1735e-02, -8.9704e-02,  1.1105e-01, -1.6703e-01,  6.8377e-02,\n",
      "        -8.7388e-02, -3.9789e-02,  1.4184e-02,  2.1187e-01,  2.8579e-01,\n",
      "        -2.8797e-01, -5.8996e-02, -3.2436e-02, -4.7009e-03, -1.7052e-01,\n",
      "        -3.4741e-02, -1.1489e-01,  7.5093e-02,  9.9526e-02,  4.8183e-02,\n",
      "        -7.3775e-02, -4.1817e-01,  4.1268e-03,  4.4414e-01, -1.6062e-01,\n",
      "         1.4294e-01, -2.2628e+00, -2.7347e-02,  8.1311e-01,  7.7417e-01,\n",
      "        -2.5639e-01, -1.1576e-01, -1.1982e-01, -2.1363e-01,  2.8429e-02,\n",
      "         2.7261e-01,  3.1026e-02,  9.6782e-02,  6.7769e-03,  1.4082e-01,\n",
      "        -1.3064e-02, -2.9686e-01, -7.9913e-02,  1.9500e-01,  3.1549e-02,\n",
      "         2.8506e-01, -8.7461e-02,  9.0611e-03, -2.0989e-01,  5.3913e-02],\n",
      "       device='cuda:0')\n"
     ]
    }
   ],
   "source": [
    "# Initialize the word embeddings with Glove \n",
    "print('Loading Glove embeddings...')\n",
    "vocab = {}\n",
    "glove_embeddings = []\n",
    "with open('glove.6B/glove.6B.300d.txt', 'r', encoding='utf-8') as f:\n",
    "    for line in f.readlines():\n",
    "        line = line.strip().split()\n",
    "        vocab[line[0]] = len(vocab)\n",
    "        glove_embeddings.append([float(x) for x in line[1:]])\n",
    "print('Done.')\n",
    "glove_embeddings = torch.tensor(glove_embeddings, dtype=torch.float, device=device)\n",
    "print(glove_embeddings.shape)\n",
    "print(glove_embeddings[0])"
   ]
  },
  {
   "cell_type": "code",
   "execution_count": 7,
   "metadata": {},
   "outputs": [],
   "source": [
    "# For words not found in Glove, use random initializations.\n",
    "for token in ptb_train_tokens:\n",
    "    if token not in vocab.keys():\n",
    "        vocab[token] = len(vocab)\n",
    "        glove_embeddings = torch.cat((glove_embeddings, torch.randn(1, glove_embeddings.shape[1], device=device)), dim=0)"
   ]
  },
  {
   "cell_type": "code",
   "execution_count": 8,
   "metadata": {},
   "outputs": [
    {
     "name": "stdout",
     "output_type": "stream",
     "text": [
      "[['but', 'only', 'N', 'N', 'to', 'N', 'N', 'of', 'the', 'investors', 'were', 'committing', 'more', 'than', 'half', 'their', 'funds', 'to', 'either', 'of', 'those', 'alternatives', '<eos>'], ['the', 'noncallable', 'issue', 'was', 'priced', 'to', 'yield', 'N', 'basis', 'points', 'above', 'the', 'treasury', \"'s\", '<unk>', 'note', '<eos>'], ['some', 'fruit', '<unk>', 'say', 'the', 'fuji', 'could', 'someday', 'tumble', 'the', 'red', 'delicious', 'from', 'the', 'top', 'of', 'america', \"'s\", 'apple', '<unk>', '<eos>'], ['hearst', 'said', 'it', 'would', 'provide', 'employees', 'with', 'a', 'placement', 'service', 'and', 'pay', 'them', 'for', 'N', 'days', '<eos>'], ['the', 'loss', 'is', 'in', 'line', 'with', 'our', 'expectations', 'said', 'john', 'c.', 'maxwell', 'iii', 'an', 'analyst', 'with', 'dillon', 'read', '&', 'co.', 'in', 'new', 'york', '<eos>']]\n",
      "tensor([    34,     91, 400006, 400006,      4, 400006, 400006,      3,      0,\n",
      "           755,     35,   8752,     56,     73,    343,     44,   1104,      4,\n",
      "           900,      3], device='cuda:0')\n",
      "(tensor([    34,     91, 400006, 400006,      4], device='cuda:0'), tensor([    91, 400006, 400006,      4, 400006], device='cuda:0'))\n"
     ]
    }
   ],
   "source": [
    "# test the vocab and dataloader\n",
    "ptb_train_dataset = PennTreebankDataset(ptb_train_lines, 5, 10)\n",
    "print(ptb_train_dataset.data_lines[:5])\n",
    "print(ptb_train_dataset.data[:20])\n",
    "print(ptb_train_dataset[0])"
   ]
  },
  {
   "attachments": {},
   "cell_type": "markdown",
   "metadata": {},
   "source": [
    "### Training and Generating "
   ]
  },
  {
   "cell_type": "code",
   "execution_count": 56,
   "metadata": {},
   "outputs": [],
   "source": [
    "# Train and Test an LSTM Language Model\n",
    "class LSTM_LM(nn.Module):\n",
    "    def __init__(self, vocab_size, embedding_dim, hidden_dim, num_layers, dropout_prob, glove_embeddings, tie_weight=False):\n",
    "        super(LSTM_LM, self).__init__()\n",
    "        self.vocab_size = vocab_size\n",
    "        self.embedding_dim = embedding_dim\n",
    "        self.hidden_dim = hidden_dim\n",
    "        self.num_layers = num_layers\n",
    "        self.dropout_prob = dropout_prob\n",
    "\n",
    "        self.embedding = nn.Embedding(self.vocab_size, self.embedding_dim)\n",
    "        self.embedding.weight.data.copy_(glove_embeddings)\n",
    "        self.embedding.weight.requires_grad = False\n",
    "        self.dropout = nn.Dropout(self.dropout_prob)\n",
    "        self.lstm = nn.LSTM(self.embedding_dim, self.hidden_dim, self.num_layers, dropout=self.dropout_prob, batch_first=True)\n",
    "        self.linear = nn.Linear(self.hidden_dim, self.vocab_size)\n",
    "        if tie_weight:\n",
    "            self.linear.weight = self.embedding.weight\n",
    "            self.linear.weight.requires_grad = False\n",
    "        self.softmax = nn.LogSoftmax(dim=2)\n",
    "\n",
    "\n",
    "    def forward(self, inputs, hidden):\n",
    "        embedding = self.embedding(inputs)\n",
    "        embedding = self.dropout(embedding)\n",
    "        lstm_out, hidden = self.lstm(embedding, hidden)\n",
    "        lstm_out = self.dropout(lstm_out)\n",
    "        outputs = self.linear(lstm_out)\n",
    "        outputs = self.softmax(outputs)\n",
    "        return outputs, hidden\n",
    "\n",
    "    def init_hidden(self, batch_size):\n",
    "        weight = next(self.parameters()).data\n",
    "        return (weight.new(self.num_layers, batch_size, self.hidden_dim).zero_().to(device),\n",
    "                weight.new(self.num_layers, batch_size, self.hidden_dim).zero_().to(device))\n",
    "        \n",
    "    def reuse_hidden(self, hidden):\n",
    "        return (self.dropout(hidden[0]).detach(), hidden[1].detach())"
   ]
  },
  {
   "cell_type": "code",
   "execution_count": 44,
   "metadata": {},
   "outputs": [],
   "source": [
    "# Train and Test an RNN Language Model\n",
    "class RNN_LM(nn.Module):\n",
    "    def __init__(self, vocab_size, embedding_dim, hidden_dim, num_layers, dropout_prob, glove_embeddings):\n",
    "        super(RNN_LM, self).__init__()\n",
    "        self.vocab_size = vocab_size\n",
    "        self.embedding_dim = embedding_dim\n",
    "        self.hidden_dim = hidden_dim\n",
    "        self.num_layers = num_layers\n",
    "        self.dropout_prob = dropout_prob\n",
    "\n",
    "        self.embedding = nn.Embedding(self.vocab_size, self.embedding_dim)\n",
    "        self.embedding.weight.data.copy_(glove_embeddings)\n",
    "        self.embedding.weight.requires_grad = False\n",
    "        self.dropout = nn.Dropout(self.dropout_prob)\n",
    "        self.rnn = nn.RNN(self.embedding_dim, self.hidden_dim, self.num_layers, dropout=self.dropout_prob, batch_first=True)\n",
    "        self.linear = nn.Linear(self.hidden_dim, self.vocab_size)\n",
    "        self.softmax = nn.LogSoftmax(dim=2)\n",
    "        \n",
    "\n",
    "    def forward(self, inputs, hidden):\n",
    "        embedding = self.embedding(inputs)\n",
    "        embedding = self.dropout(embedding)\n",
    "        rnn_out, hidden = self.rnn(embedding, hidden)\n",
    "        rnn_out = self.dropout(rnn_out)\n",
    "        outputs = self.linear(rnn_out)\n",
    "        outputs = self.softmax(outputs)\n",
    "        return outputs, hidden\n",
    "    \n",
    "    def init_hidden(self, batch_size):\n",
    "        weight = next(self.parameters()).data\n",
    "        return weight.new(self.num_layers, batch_size, self.hidden_dim).zero_().to(device)\n",
    "    \n",
    "    def reuse_hidden(self, hidden):\n",
    "        return hidden.detach()"
   ]
  },
  {
   "cell_type": "code",
   "execution_count": 53,
   "metadata": {},
   "outputs": [],
   "source": [
    "# Train the model\n",
    "def train(model, train_dataLoader, criterion, optimizer, reuse=True):\n",
    "    model.train()\n",
    "    epoch_loss = 0\n",
    "    hidden = model.init_hidden(train_dataLoader.dataset.batch_size)\n",
    "    for inputs, targets in train_dataLoader:\n",
    "        inputs = inputs.to(device)\n",
    "        targets = targets.to(device)\n",
    "        if reuse:\n",
    "            hidden = model.reuse_hidden(hidden)\n",
    "        else:\n",
    "            hidden = model.init_hidden(train_dataLoader.dataset.batch_size)\n",
    "        model.zero_grad()\n",
    "        outputs, hidden = model(inputs, hidden)\n",
    "        loss = criterion(outputs.view(-1, model.vocab_size), targets.view(-1))\n",
    "        loss.backward()\n",
    "        optimizer.step()\n",
    "        epoch_loss += loss.item()\n",
    "    return epoch_loss / len(train_dataLoader)"
   ]
  },
  {
   "cell_type": "code",
   "execution_count": 46,
   "metadata": {},
   "outputs": [],
   "source": [
    "# Test the model\n",
    "def test(model, test_dataLoader, criterion):\n",
    "    model.eval()\n",
    "    epoch_loss = 0\n",
    "    hidden = model.init_hidden(test_dataLoader.dataset.batch_size)\n",
    "    with torch.no_grad():\n",
    "        for inputs, targets in test_dataLoader:\n",
    "            inputs = inputs.to(device)\n",
    "            targets = targets.to(device)\n",
    "            outputs, hidden = model(inputs, hidden)\n",
    "            loss = criterion(outputs.view(-1, model.vocab_size), targets.view(-1))\n",
    "            epoch_loss += loss.item()\n",
    "    return epoch_loss / len(test_dataLoader)"
   ]
  },
  {
   "cell_type": "code",
   "execution_count": 54,
   "metadata": {},
   "outputs": [],
   "source": [
    "# args\n",
    "args = {\n",
    "    'vocab_size': len(vocab),\n",
    "    'embedding_dim': 300,\n",
    "    'hidden_dim': 300,\n",
    "    'num_layers': 2,\n",
    "    'dropout_prob': 0.5,\n",
    "    'shuffle': False,\n",
    "    'reuse_hidden': True,\n",
    "    'tie_weight': False,\n",
    "    'glove_embeddings': glove_embeddings,\n",
    "    'lr': 0.001,\n",
    "    'epochs': 30,\n",
    "    'batch_size': 32,\n",
    "    'sequence_length': 7,\n",
    "    'save_path': 'assets/'\n",
    "}"
   ]
  },
  {
   "cell_type": "code",
   "execution_count": 62,
   "metadata": {},
   "outputs": [
    {
     "name": "stdout",
     "output_type": "stream",
     "text": [
      "Epoch: 0, Train Loss: 6.376207636476684, Valid Loss: 5.641850017849073, Valid Perplexity: 281.98391148784464\n",
      "Epoch: 1, Train Loss: 5.630684745716859, Valid Loss: 5.320352823900959, Valid Perplexity: 204.45600623433577\n",
      "Epoch: 2, Train Loss: 5.408649699146071, Valid Loss: 5.172780002141796, Valid Perplexity: 176.40456151056688\n",
      "Epoch: 3, Train Loss: 5.287376632285882, Valid Loss: 5.080478314570743, Valid Perplexity: 160.85097489642044\n",
      "Epoch: 4, Train Loss: 5.198981157295042, Valid Loss: 5.020623201294873, Valid Perplexity: 151.50569292329448\n",
      "Epoch: 5, Train Loss: 5.137226627889556, Valid Loss: 4.976260875133758, Valid Perplexity: 144.93145045210835\n",
      "Epoch: 6, Train Loss: 5.088171209706315, Valid Loss: 4.949966063977737, Valid Perplexity: 141.1701730860496\n",
      "Epoch: 7, Train Loss: 5.049524672722696, Valid Loss: 4.91815269754288, Valid Perplexity: 136.7497615411359\n",
      "Epoch: 8, Train Loss: 5.018317644151902, Valid Loss: 4.896690193280623, Valid Perplexity: 133.846041219158\n",
      "Epoch: 9, Train Loss: 4.9937268447002525, Valid Loss: 4.882010728030219, Valid Perplexity: 131.89560362295651\n",
      "Epoch: 10, Train Loss: 4.96883911602639, Valid Loss: 4.868792477349742, Valid Perplexity: 130.1636464104508\n",
      "Epoch: 11, Train Loss: 4.948791377944928, Valid Loss: 4.8603855817151285, Valid Perplexity: 129.07396107297703\n",
      "Epoch: 12, Train Loss: 4.930528920884591, Valid Loss: 4.850653391840972, Valid Perplexity: 127.82388164797761\n",
      "Epoch: 13, Train Loss: 4.917826588914089, Valid Loss: 4.836669856654112, Valid Perplexity: 126.04889114557135\n",
      "Epoch: 14, Train Loss: 4.903192373493201, Valid Loss: 4.827490560189569, Valid Perplexity: 124.89714520057488\n",
      "Epoch: 15, Train Loss: 4.892499234366629, Valid Loss: 4.826045788530158, Valid Perplexity: 124.71682763506772\n",
      "Epoch: 16, Train Loss: 4.8789676516623235, Valid Loss: 4.821987701404421, Valid Perplexity: 124.21174141756681\n",
      "Epoch: 17, Train Loss: 4.87026641293588, Valid Loss: 4.813392769601932, Valid Perplexity: 123.14872479271003\n",
      "Epoch: 18, Train Loss: 4.858831673652243, Valid Loss: 4.8080812341174095, Valid Perplexity: 122.49635006062374\n",
      "Epoch: 19, Train Loss: 4.852531088205899, Valid Loss: 4.804321093399836, Valid Perplexity: 122.03661142965336\n",
      "Epoch: 20, Train Loss: 4.8417420940072775, Valid Loss: 4.802191898090861, Valid Perplexity: 121.77704807767009\n",
      "Epoch: 21, Train Loss: 4.83387048453071, Valid Loss: 4.799319445543376, Valid Perplexity: 121.42775119522432\n",
      "Epoch: 22, Train Loss: 4.8297268435247664, Valid Loss: 4.798380592311407, Valid Perplexity: 121.3138018577858\n",
      "Epoch: 23, Train Loss: 4.820662776313077, Valid Loss: 4.7885739100377975, Valid Perplexity: 120.12993036120143\n",
      "Epoch: 24, Train Loss: 4.815320715843324, Valid Loss: 4.796093311715634, Valid Perplexity: 121.03664024681878\n",
      "Epoch: 25, Train Loss: 4.809626929298543, Valid Loss: 4.7900119697431665, Valid Perplexity: 120.30280864831904\n",
      "Epoch: 26, Train Loss: 4.802028557282524, Valid Loss: 4.786063216015198, Valid Perplexity: 119.82869917101893\n",
      "Epoch: 27, Train Loss: 4.799067229355752, Valid Loss: 4.782766081279535, Valid Perplexity: 119.43425842413025\n",
      "Epoch: 28, Train Loss: 4.7926594411128685, Valid Loss: 4.7811611155246165, Valid Perplexity: 119.24272427338653\n",
      "Epoch: 29, Train Loss: 4.788783448321126, Valid Loss: 4.778878601851072, Valid Perplexity: 118.97086150803219\n"
     ]
    }
   ],
   "source": [
    "## Train \n",
    "train_dataLoader = DataLoader(dataset=PennTreebankDataset(ptb_train_lines, args['sequence_length'], args['batch_size']), batch_size=args['batch_size'], shuffle=args['shuffle'])\n",
    "valid_dataLoader = DataLoader(dataset=PennTreebankDataset(ptb_valid_lines, args['sequence_length'], args['batch_size']), batch_size=args['batch_size'], shuffle=False)\n",
    "model = LSTM_LM(args['vocab_size'], args['embedding_dim'], args['hidden_dim'], args['num_layers'], args['dropout_prob'], args['glove_embeddings'], args['tie_weight'])\n",
    "model.to(device)\n",
    "criterion = nn.NLLLoss()\n",
    "optimizer = optim.Adam(model.parameters(), lr=args['lr'])\n",
    "scheduler = optim.lr_scheduler.StepLR(optimizer, step_size=2, gamma=0.98)\n",
    "train_losses = []\n",
    "valid_losses = []\n",
    "for epoch in range(args['epochs']):\n",
    "    train_dataLoader.dataset.init_epoch()\n",
    "    train_loss = train(model, train_dataLoader, criterion, optimizer, reuse=args['reuse_hidden'])\n",
    "    valid_loss = test(model, valid_dataLoader, criterion)\n",
    "    scheduler.step()\n",
    "    train_losses.append(train_loss)\n",
    "    valid_losses.append(valid_loss)\n",
    "    valid_perplexity = math.exp(valid_loss)\n",
    "    print('Epoch: {}, Train Loss: {}, Valid Loss: {}, Valid Perplexity: {}'.format(epoch, train_loss, valid_loss, valid_perplexity))\n"
   ]
  },
  {
   "attachments": {},
   "cell_type": "markdown",
   "metadata": {},
   "source": [
    "### Plot curves and save model"
   ]
  },
  {
   "cell_type": "code",
   "execution_count": 63,
   "metadata": {},
   "outputs": [
    {
     "data": {
      "image/png": "[encoded data removed]",
      "text/plain": [
       "<Figure size 640x480 with 1 Axes>"
      ]
     },
     "metadata": {},
     "output_type": "display_data"
    }
   ],
   "source": [
    "## plot the loss curve and save the model\n",
    "plt.plot(train_losses, label='train loss')\n",
    "plt.plot(valid_losses, label='valid loss')\n",
    "plt.legend()\n",
    "## save with utc time\n",
    "torch.save(model.state_dict(), args['save_path'] + 'models/LSTM_LM_lr_' + datetime.utcnow().strftime(\"%Y-%m-%d-%H%MZ\") + '.pt')\n",
    "plt.savefig(args['save_path'] + 'curves/LSTM_lr_loss_curve_' + datetime.utcnow().strftime(\"%Y-%m-%d-%H%MZ\") + '.png')"
   ]
  },
  {
   "cell_type": "code",
   "execution_count": 64,
   "metadata": {},
   "outputs": [
    {
     "name": "stdout",
     "output_type": "stream",
     "text": [
      "Test Loss: 4.6989, Valid Loss: 4.7786, Test Perplexity: 109.8219, Valid Perplexity: 118.9432\n"
     ]
    }
   ],
   "source": [
    "## Test\n",
    "test_dataLoader = DataLoader(dataset=PennTreebankDataset(ptb_test_lines, args['sequence_length'], args['batch_size']), batch_size=args['batch_size'], shuffle=False)\n",
    "valid_dataLoader = DataLoader(dataset=PennTreebankDataset(ptb_valid_lines, args['sequence_length'], args['batch_size']), batch_size=args['batch_size'], shuffle=False)\n",
    "model = LSTM_LM(args['vocab_size'], args['embedding_dim'], args['hidden_dim'], args['num_layers'], args['dropout_prob'], args['glove_embeddings'])\n",
    "model.load_state_dict(torch.load(args['save_path'] + 'models/LSTM_LM_lr_2023-10-25-1220Z.pt'))\n",
    "model.to(device)\n",
    "criterion = nn.NLLLoss()\n",
    "test_loss = test(model, test_dataLoader, criterion)\n",
    "valid_loss = test(model, valid_dataLoader, criterion)\n",
    "test_perplexity = math.exp(test_loss)\n",
    "valid_perplexity = math.exp(valid_loss)\n",
    "print('Test Loss: {:.4f}, Valid Loss: {:.4f}, Test Perplexity: {:.4f}, Valid Perplexity: {:.4f}'.format(test_loss, valid_loss, test_perplexity, valid_perplexity))"
   ]
  },
  {
   "attachments": {},
   "cell_type": "markdown",
   "metadata": {},
   "source": [
    "### Generation"
   ]
  },
  {
   "cell_type": "code",
   "execution_count": 65,
   "metadata": {},
   "outputs": [
    {
     "data": {
      "text/plain": [
       "LSTM_LM(\n",
       "  (embedding): Embedding(400191, 300)\n",
       "  (dropout): Dropout(p=0.5, inplace=False)\n",
       "  (lstm): LSTM(300, 300, num_layers=2, batch_first=True, dropout=0.5)\n",
       "  (linear): Linear(in_features=300, out_features=400191, bias=True)\n",
       "  (softmax): LogSoftmax(dim=2)\n",
       ")"
      ]
     },
     "execution_count": 65,
     "metadata": {},
     "output_type": "execute_result"
    }
   ],
   "source": [
    "best_model = LSTM_LM(args['vocab_size'], args['embedding_dim'], args['hidden_dim'], args['num_layers'], args['dropout_prob'], args['glove_embeddings'])\n",
    "best_model.load_state_dict(torch.load(args['save_path'] + 'models/LSTM_LM_lr_2023-10-25-1220Z.pt'))\n",
    "best_model.to(device)"
   ]
  },
  {
   "cell_type": "code",
   "execution_count": 18,
   "metadata": {},
   "outputs": [],
   "source": [
    "def generate_one_token(model, seed):\n",
    "    model.eval()\n",
    "    with torch.no_grad():\n",
    "        hidden = model.init_hidden(1)\n",
    "        inputs = torch.tensor([seed]).to(device)\n",
    "        outputs, hidden = model(inputs, hidden)\n",
    "        outputs = outputs.view(-1, model.vocab_size)\n",
    "        pred_probs = outputs[-1]\n",
    "        topk = torch.topk(pred_probs, 40)\n",
    "        topk_probs = topk[0].tolist()\n",
    "        topk_words = topk[1].tolist()\n",
    "        sample_probs = [p / sum(topk_probs) for p in topk_probs]\n",
    "        sampled_word = np.random.choice(topk_words, p=sample_probs)\n",
    "        return sampled_word, pred_probs[sampled_word]"
   ]
  },
  {
   "cell_type": "code",
   "execution_count": 30,
   "metadata": {},
   "outputs": [],
   "source": [
    "def compute_NLL_perplexity(model, seed, length):\n",
    "    probs = []\n",
    "    for i in range(length):\n",
    "        token = generate_one_token(model, seed)\n",
    "        seed.append(token[0])\n",
    "        probs.append(token[1])\n",
    "    probs = torch.tensor(probs)\n",
    "    NLLLoss = - probs.mean()\n",
    "    perplexity = torch.exp(NLLLoss)\n",
    "    return NLLLoss.item(), perplexity.item()"
   ]
  },
  {
   "cell_type": "code",
   "execution_count": 66,
   "metadata": {},
   "outputs": [],
   "source": [
    "# compute NLL perplexity for each sentence in test set\n",
    "NLLLosses = []\n",
    "perplexities = []\n",
    "for sentence in ptb_test_lines:\n",
    "    if len(sentence) < 5:\n",
    "        continue\n",
    "    seed = [vocab[token] for token in sentence[:5]]\n",
    "    NLL_perplexity = compute_NLL_perplexity(best_model, seed, 15)\n",
    "    NLLLosses.append(NLL_perplexity[0])\n",
    "    perplexities.append(NLL_perplexity[1])\n",
    "    \n",
    "print('NLL Loss: {:.4f}, Perplexity: {:.4f}'.format(np.mean(NLLLosses), np.mean(perplexities)))"
   ]
  },
  {
   "cell_type": "code",
   "execution_count": 40,
   "metadata": {},
   "outputs": [
    {
     "name": "stdout",
     "output_type": "stream",
     "text": [
      "i like my long hair but the government may consider people be no major reason a $ line is what all what this works might make\n"
     ]
    }
   ],
   "source": [
    "prompt = 'i like my long hair but'\n",
    "seed = [vocab[token] for token in prompt.split()]\n",
    "for i in range(20):\n",
    "    sampled_word = generate_one_token(best_model, seed)\n",
    "    seed.append(sampled_word[0])\n",
    "print(' '.join([list(vocab.keys())[list(vocab.values()).index(idx)] for idx in seed]))"
   ]
  },
  {
   "attachments": {},
   "cell_type": "markdown",
   "metadata": {},
   "source": [
    "### Test generation model"
   ]
  },
  {
   "cell_type": "code",
   "execution_count": null,
   "metadata": {},
   "outputs": [],
   "source": [
    "# for i in range(10):\n",
    "#     sequence = input()\n",
    "#     seed = sequence.strip().split()\n",
    "#     print(generate(best_model,seed, 10))"
   ]
  }
 ],
 "metadata": {
  "kernelspec": {
   "display_name": "NLP",
   "language": "python",
   "name": "python3"
  },
  "language_info": {
   "codemirror_mode": {
    "name": "ipython",
    "version": 3
   },
   "file_extension": ".py",
   "mimetype": "text/x-python",
   "name": "python",
   "nbconvert_exporter": "python",
   "pygments_lexer": "ipython3",
   "version": "3.11.5"
  },
  "orig_nbformat": 4,
  "vscode": {
   "interpreter": {
    "hash": "7bf9b6708bea9f75880765e6879768f88c54db0b01e9f79b6f29681d96d3dcd7"
   }
  }
 },
 "nbformat": 4,
 "nbformat_minor": 2
}
