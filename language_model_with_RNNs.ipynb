{
 "cells": [
  {
   "attachments": {},
   "cell_type": "markdown",
   "metadata": {},
   "source": [
    "# Train and Improve an Language Model with PyTorch"
   ]
  },
  {
   "attachments": {},
   "cell_type": "markdown",
   "metadata": {},
   "source": [
    "## Set up"
   ]
  },
  {
   "cell_type": "code",
   "execution_count": 23,
   "metadata": {},
   "outputs": [
    {
     "name": "stdout",
     "output_type": "stream",
     "text": [
      "cuda\n"
     ]
    }
   ],
   "source": [
    "import torch\n",
    "import torch.nn as nn\n",
    "import torch.nn.functional as F\n",
    "import torch.optim as optim\n",
    "from torch.utils.data import DataLoader, Dataset\n",
    "import numpy as np\n",
    "import random\n",
    "import os\n",
    "from datetime import datetime\n",
    "import math\n",
    "import matplotlib.pyplot as plt\n",
    "\n",
    "device = torch.device(\"cuda\" if torch.cuda.is_available() else \"cpu\")\n",
    "print(device)"
   ]
  },
  {
   "attachments": {},
   "cell_type": "markdown",
   "metadata": {},
   "source": [
    "##  Training a Language Model with RNNs and LSTMs"
   ]
  },
  {
   "attachments": {},
   "cell_type": "markdown",
   "metadata": {},
   "source": [
    "### Dataset and Preprocessing"
   ]
  },
  {
   "cell_type": "code",
   "execution_count": 24,
   "metadata": {},
   "outputs": [
    {
     "name": "stdout",
     "output_type": "stream",
     "text": [
      "42068\n",
      "[['aer', 'banknote', 'berlitz', 'calloway', 'centrust', 'cluett', 'fromstein', 'gitano', 'guterman', 'hydro-quebec', 'ipo', 'kia', 'memotec', 'mlx', 'nahb', 'punts', 'rake', 'regatta', 'rubens', 'sim', 'snack-food', 'ssangyong', 'swapo', 'wachter', '<eos>'], ['pierre', '<unk>', 'N', 'years', 'old', 'will', 'join', 'the', 'board', 'as', 'a', 'nonexecutive', 'director', 'nov.', 'N', '<eos>'], ['mr.', '<unk>', 'is', 'chairman', 'of', '<unk>', 'n.v.', 'the', 'dutch', 'publishing', 'group', '<eos>'], ['rudolph', '<unk>', 'N', 'years', 'old', 'and', 'former', 'chairman', 'of', 'consolidated', 'gold', 'fields', 'plc', 'was', 'named', 'a', 'nonexecutive', 'director', 'of', 'this', 'british', 'industrial', 'conglomerate', '<eos>'], ['a', 'form', 'of', 'asbestos', 'once', 'used', 'to', 'make', 'kent', 'cigarette', 'filters', 'has', 'caused', 'a', 'high', 'percentage', 'of', 'cancer', 'deaths', 'among', 'a', 'group', 'of', 'workers', 'exposed', 'to', 'it', 'more', 'than', 'N', 'years', 'ago', 'researchers', 'reported', '<eos>']]\n"
     ]
    }
   ],
   "source": [
    "# Read the training, validation, and testing files, and replace newlines with the \"<eos>\" token.\n",
    "def read_file(file_path):\n",
    "    with open(file_path, 'r') as f:\n",
    "        lines = f.readlines()\n",
    "        lines = [line.strip() for line in lines]\n",
    "        lines = [line.split() + ['<eos>'] for line in lines]\n",
    "        return lines\n",
    "ptb_train_lines = read_file('penn-treebank/ptb.train.txt')\n",
    "ptb_valid_lines = read_file('penn-treebank/ptb.valid.txt')\n",
    "ptb_test_lines = read_file('penn-treebank/ptb.test.txt')\n",
    "print(len(ptb_train_lines))\n",
    "print(ptb_train_lines[:5])"
   ]
  },
  {
   "attachments": {},
   "cell_type": "markdown",
   "metadata": {},
   "source": [
    "### DataLoader"
   ]
  },
  {
   "cell_type": "code",
   "execution_count": 25,
   "metadata": {},
   "outputs": [
    {
     "name": "stdout",
     "output_type": "stream",
     "text": [
      "929589\n",
      "['aer', 'banknote', 'berlitz', 'calloway', 'centrust', 'cluett', 'fromstein', 'gitano', 'guterman', 'hydro-quebec', 'ipo', 'kia', 'memotec', 'mlx', 'nahb', 'punts', 'rake', 'regatta', 'rubens', 'sim', 'snack-food', 'ssangyong', 'swapo', 'wachter', '<eos>', 'pierre', '<unk>', 'N', 'years', 'old', 'will', 'join', 'the', 'board', 'as', 'a', 'nonexecutive', 'director', 'nov.', 'N', '<eos>', 'mr.', '<unk>', 'is', 'chairman', 'of', '<unk>', 'n.v.', 'the', 'dutch', 'publishing', 'group', '<eos>', 'rudolph', '<unk>', 'N', 'years', 'old', 'and', 'former', 'chairman', 'of', 'consolidated', 'gold', 'fields', 'plc', 'was', 'named', 'a', 'nonexecutive', 'director', 'of', 'this', 'british', 'industrial', 'conglomerate', '<eos>', 'a', 'form', 'of', 'asbestos', 'once', 'used', 'to', 'make', 'kent', 'cigarette', 'filters', 'has', 'caused', 'a', 'high', 'percentage', 'of', 'cancer', 'deaths', 'among', 'a', 'group', 'of']\n"
     ]
    }
   ],
   "source": [
    "# Concatenate all articles in the training set into one long sequence.\n",
    "ptb_train_tokens = [token for line in ptb_train_lines for token in line]\n",
    "print(len(ptb_train_tokens))\n",
    "print(ptb_train_tokens[:100])"
   ]
  },
  {
   "cell_type": "code",
   "execution_count": 26,
   "metadata": {},
   "outputs": [],
   "source": [
    "# Generate batches with shape (batch size, sequence_length + 1).\n",
    "# Continuous Batching\n",
    "# use PyTorch's DataLoader class but overwrite the \"iter\" method.\n",
    "# The \"iter\" method is called when we use a for loop to iterate over the DataLoader object.\n",
    "# We will overwrite this method to return a generator that yields batches of data.\n",
    "# The \"init_epoch\" method is called at the end of each epoch to shuffle the data.\n",
    "# The \"shuffle_batches\" method shuffles the batches.\n",
    "# The \"__len__\" method returns the number of batches in the dataset.\n",
    "# The \"__getitem__\" method returns a batch of data given an index.\n",
    "\n",
    "class PennTreebankDataset(Dataset):\n",
    "    def __init__(self, data_lines, sequence_length, batch_size):\n",
    "        self.data_lines = data_lines\n",
    "        self.data = None\n",
    "        self.sequence_length = sequence_length\n",
    "        self.batch_size = batch_size\n",
    "        self.split_length = None\n",
    "        self.init_epoch()\n",
    "\n",
    "    def __len__(self):\n",
    "        return self.split_length  // self.sequence_length * self.batch_size\n",
    "    \n",
    "    def __getitem__(self, idx):\n",
    "        # Split the long sequence into batch size equal-length sequences\n",
    "        # For each split sequence, cut them into continuous parts\n",
    "        # Batch k is composed of the kth part of all the sequences.\n",
    "        batch_x = idx % self.batch_size\n",
    "        batch_y = idx // self.batch_size\n",
    "        inputs = self.data[batch_x * self.split_length + batch_y*self.sequence_length: batch_x * self.split_length + (batch_y+1)*self.sequence_length]\n",
    "        outputs = self.data[batch_x * self.split_length + batch_y*self.sequence_length + 1: batch_x * self.split_length + (batch_y+1)*self.sequence_length + 1]\n",
    "        return inputs, outputs\n",
    "    \n",
    "    def init_epoch(self):\n",
    "        self.data = self.shuffle_lines(self.data_lines)\n",
    "        self.split_length = len(self.data) // self.batch_size\n",
    "\n",
    "    def shuffle_lines(self, data_lines):\n",
    "        np.random.shuffle(data_lines)\n",
    "        data = [token for line in data_lines for token in line]\n",
    "        return self.tensor_from_tokens(data)\n",
    "    \n",
    "    def tensor_from_tokens(self, tokens):\n",
    "        token_ids = [vocab[token] for token in tokens]\n",
    "        return torch.tensor(token_ids, dtype=torch.long, device=device)\n",
    "    "
   ]
  },
  {
   "attachments": {},
   "cell_type": "markdown",
   "metadata": {},
   "source": [
    "### Word Embedding Initialization"
   ]
  },
  {
   "cell_type": "code",
   "execution_count": 27,
   "metadata": {},
   "outputs": [
    {
     "name": "stdout",
     "output_type": "stream",
     "text": [
      "Loading Glove embeddings...\n",
      "Done.\n",
      "torch.Size([400000, 300])\n",
      "tensor([ 4.6560e-02,  2.1318e-01, -7.4364e-03, -4.5854e-01, -3.5639e-02,\n",
      "         2.3643e-01, -2.8836e-01,  2.1521e-01, -1.3486e-01, -1.6413e+00,\n",
      "        -2.6091e-01,  3.2434e-02,  5.6621e-02, -4.3296e-02, -2.1672e-02,\n",
      "         2.2476e-01, -7.5129e-02, -6.7018e-02, -1.4247e-01,  3.8825e-02,\n",
      "        -1.8951e-01,  2.9977e-01,  3.9305e-01,  1.7887e-01, -1.7343e-01,\n",
      "        -2.1178e-01,  2.3617e-01, -6.3681e-02, -4.2318e-01, -1.1661e-01,\n",
      "         9.3754e-02,  1.7296e-01, -3.3073e-01,  4.9112e-01, -6.8995e-01,\n",
      "        -9.2462e-02,  2.4742e-01, -1.7991e-01,  9.7908e-02,  8.3118e-02,\n",
      "         1.5299e-01, -2.7276e-01, -3.8934e-02,  5.4453e-01,  5.3737e-01,\n",
      "         2.9105e-01, -7.3514e-03,  4.7880e-02, -4.0760e-01, -2.6759e-02,\n",
      "         1.7919e-01,  1.0977e-02, -1.0963e-01, -2.6395e-01,  7.3990e-02,\n",
      "         2.6236e-01, -1.5080e-01,  3.4623e-01,  2.5758e-01,  1.1971e-01,\n",
      "        -3.7135e-02, -7.1593e-02,  4.3898e-01, -4.0764e-02,  1.6425e-02,\n",
      "        -4.4640e-01,  1.7197e-01,  4.6246e-02,  5.8639e-02,  4.1499e-02,\n",
      "         5.3948e-01,  5.2495e-01,  1.1361e-01, -4.8315e-02, -3.6385e-01,\n",
      "         1.8704e-01,  9.2761e-02, -1.1129e-01, -4.2085e-01,  1.3992e-01,\n",
      "        -3.9338e-01, -6.7945e-02,  1.2188e-01,  1.6707e-01,  7.5169e-02,\n",
      "        -1.5529e-02, -1.9499e-01,  1.9638e-01,  5.3194e-02,  2.5170e-01,\n",
      "        -3.4845e-01, -1.0638e-01, -3.4692e-01, -1.9024e-01, -2.0040e-01,\n",
      "         1.2154e-01, -2.9208e-01,  2.3353e-02, -1.1618e-01, -3.5768e-01,\n",
      "         6.2304e-02,  3.5884e-01,  2.9060e-02,  7.3005e-03,  4.9482e-03,\n",
      "        -1.5048e-01, -1.2313e-01,  1.9337e-01,  1.2173e-01,  4.4503e-01,\n",
      "         2.5147e-01,  1.0781e-01, -1.7716e-01,  3.8691e-02,  8.1530e-02,\n",
      "         1.4667e-01,  6.3666e-02,  6.1332e-02, -7.5569e-02, -3.7724e-01,\n",
      "         1.5850e-02, -3.0342e-01,  2.8374e-01, -4.2013e-02, -4.0715e-02,\n",
      "        -1.5269e-01,  7.4980e-02,  1.5577e-01,  1.0433e-01,  3.1393e-01,\n",
      "         1.9309e-01,  1.9429e-01,  1.5185e-01, -1.0192e-01, -1.8785e-02,\n",
      "         2.0791e-01,  1.3366e-01,  1.9038e-01, -2.5558e-01,  3.0400e-01,\n",
      "        -1.8960e-02,  2.0147e-01, -4.2110e-01, -7.5156e-03, -2.7977e-01,\n",
      "        -1.9314e-01,  4.6204e-02,  1.9971e-01, -3.0207e-01,  2.5735e-01,\n",
      "         6.8107e-01, -1.9409e-01,  2.3984e-01,  2.2493e-01,  6.5224e-01,\n",
      "        -1.3561e-01, -1.7383e-01, -4.8209e-02, -1.1860e-01,  2.1588e-03,\n",
      "        -1.9525e-02,  1.1948e-01,  1.9346e-01, -4.0820e-01, -8.2966e-02,\n",
      "         1.6626e-01, -1.0601e-01,  3.5861e-01,  1.6922e-01,  7.2590e-02,\n",
      "        -2.4803e-01, -1.0024e-01, -5.2491e-01, -1.7745e-01, -3.6647e-01,\n",
      "         2.6180e-01, -1.2077e-02,  8.3190e-02, -2.1528e-01,  4.1045e-01,\n",
      "         2.9136e-01,  3.0869e-01,  7.8864e-02,  3.2207e-01, -4.1023e-02,\n",
      "        -1.0970e-01, -9.2041e-02, -1.2339e-01, -1.6416e-01,  3.5382e-01,\n",
      "        -8.2774e-02,  3.3171e-01, -2.4738e-01, -4.8928e-02,  1.5746e-01,\n",
      "         1.8988e-01, -2.6642e-02,  6.3315e-02, -1.0673e-02,  3.4089e-01,\n",
      "         1.4106e+00,  1.3417e-01,  2.8191e-01, -2.5940e-01,  5.5267e-02,\n",
      "        -5.2425e-02, -2.5789e-01,  1.9127e-02, -2.2084e-02,  3.2113e-01,\n",
      "         6.8818e-02,  5.1207e-01,  1.6478e-01, -2.0194e-01,  2.9232e-01,\n",
      "         9.8575e-02,  1.3145e-02, -1.0652e-01,  1.3510e-01, -4.5332e-02,\n",
      "         2.0697e-01, -4.8425e-01, -4.4706e-01,  3.3305e-03,  2.9264e-03,\n",
      "        -1.0975e-01, -2.3325e-01,  2.2442e-01, -1.0503e-01,  1.2339e-01,\n",
      "         1.0978e-01,  4.8994e-02, -2.5157e-01,  4.0319e-01,  3.5318e-01,\n",
      "         1.8651e-01, -2.3622e-02, -1.2734e-01,  1.1475e-01,  2.7359e-01,\n",
      "        -2.1866e-01,  1.5794e-02,  8.1754e-01, -2.3792e-02, -8.5469e-01,\n",
      "        -1.6203e-01,  1.8076e-01,  2.8014e-02, -1.4340e-01,  1.3139e-03,\n",
      "        -9.1735e-02, -8.9704e-02,  1.1105e-01, -1.6703e-01,  6.8377e-02,\n",
      "        -8.7388e-02, -3.9789e-02,  1.4184e-02,  2.1187e-01,  2.8579e-01,\n",
      "        -2.8797e-01, -5.8996e-02, -3.2436e-02, -4.7009e-03, -1.7052e-01,\n",
      "        -3.4741e-02, -1.1489e-01,  7.5093e-02,  9.9526e-02,  4.8183e-02,\n",
      "        -7.3775e-02, -4.1817e-01,  4.1268e-03,  4.4414e-01, -1.6062e-01,\n",
      "         1.4294e-01, -2.2628e+00, -2.7347e-02,  8.1311e-01,  7.7417e-01,\n",
      "        -2.5639e-01, -1.1576e-01, -1.1982e-01, -2.1363e-01,  2.8429e-02,\n",
      "         2.7261e-01,  3.1026e-02,  9.6782e-02,  6.7769e-03,  1.4082e-01,\n",
      "        -1.3064e-02, -2.9686e-01, -7.9913e-02,  1.9500e-01,  3.1549e-02,\n",
      "         2.8506e-01, -8.7461e-02,  9.0611e-03, -2.0989e-01,  5.3913e-02],\n",
      "       device='cuda:0')\n"
     ]
    }
   ],
   "source": [
    "# Initialize the word embeddings with Glove \n",
    "print('Loading Glove embeddings...')\n",
    "vocab = {}\n",
    "glove_embeddings = []\n",
    "with open('glove.6B/glove.6B.300d.txt', 'r', encoding='utf-8') as f:\n",
    "    for line in f.readlines():\n",
    "        line = line.strip().split()\n",
    "        vocab[line[0]] = len(vocab)\n",
    "        glove_embeddings.append([float(x) for x in line[1:]])\n",
    "print('Done.')\n",
    "glove_embeddings = torch.tensor(glove_embeddings, dtype=torch.float, device=device)\n",
    "print(glove_embeddings.shape)\n",
    "print(glove_embeddings[0])"
   ]
  },
  {
   "cell_type": "code",
   "execution_count": 28,
   "metadata": {},
   "outputs": [],
   "source": [
    "# For words not found in Glove, use random initializations.\n",
    "for token in ptb_train_tokens:\n",
    "    if token not in vocab.keys():\n",
    "        vocab[token] = len(vocab)\n",
    "        glove_embeddings = torch.cat((glove_embeddings, torch.randn(1, glove_embeddings.shape[1], device=device)), dim=0)"
   ]
  },
  {
   "cell_type": "code",
   "execution_count": 29,
   "metadata": {},
   "outputs": [
    {
     "name": "stdout",
     "output_type": "stream",
     "text": [
      "[['yale', 'is', 'one', 'of', 'the', 'few', 'medical', 'institutions', 'conducting', 'privately', 'funded', 'research', 'on', 'fetal-tissue', 'transplants', '<eos>'], ['the', 'rates', 'which', 'take', 'effect', 'jan.', 'N', 'include', 'a', 'N', 'N', 'increase', 'for', 'national', 'edition', 'advertising', '<eos>'], ['it', 'achieved', 'a', 'good', 'media', 'play', 'and', 'enabled', 'sen.', 'specter', 'and', 'others', 'to', 'vote', 'against', 'mr.', 'bork', 'out', 'of', '<unk>', '<eos>'], ['there', 'is', 'doubt', 'that', 'the', 'change', 'would', 'accomplish', 'much', 'but', 'at', 'least', 'congress', 'as', 'in', 'N', 'would', 'be', 'doing', 'something', '<eos>'], ['similarly', 'honda', 'motor', 'co.', \"'s\", 'sales', 'are', 'so', 'brisk', 'that', 'workers', '<unk>', 'they', 'have', \"n't\", 'had', 'a', 'saturday', 'off', 'in', 'years', 'despite', 'the', 'government', \"'s\", 'encouragement', 'of', 'more', 'leisure', 'activity', '<eos>']]\n",
      "tensor([  6601,     14,     48,      3,      0,    306,    749,   2033,   5371,\n",
      "          5166,   4356,    520,     13, 400014,  17680, 400004,      0,    864,\n",
      "            42,    190], device='cuda:0')\n",
      "(tensor([6601,   14,   48,    3,    0], device='cuda:0'), tensor([ 14,  48,   3,   0, 306], device='cuda:0'))\n"
     ]
    }
   ],
   "source": [
    "# test the vocab and dataloader\n",
    "ptb_train_dataset = PennTreebankDataset(ptb_train_lines, 5, 10)\n",
    "print(ptb_train_dataset.data_lines[:5])\n",
    "print(ptb_train_dataset.data[:20])\n",
    "print(ptb_train_dataset[0])"
   ]
  },
  {
   "attachments": {},
   "cell_type": "markdown",
   "metadata": {},
   "source": [
    "### Training and Generating "
   ]
  },
  {
   "cell_type": "code",
   "execution_count": 30,
   "metadata": {},
   "outputs": [],
   "source": [
    "# Train and Test an LSTM Language Model\n",
    "class LSTM_LM(nn.Module):\n",
    "    def __init__(self, vocab_size, embedding_dim, hidden_dim, num_layers, dropout_prob, glove_embeddings):\n",
    "        super(LSTM_LM, self).__init__()\n",
    "        self.vocab_size = vocab_size\n",
    "        self.embedding_dim = embedding_dim\n",
    "        self.hidden_dim = hidden_dim\n",
    "        self.num_layers = num_layers\n",
    "        self.dropout_prob = dropout_prob\n",
    "\n",
    "        self.embedding = nn.Embedding(self.vocab_size, self.embedding_dim)\n",
    "        self.embedding.weight.data.copy_(glove_embeddings)\n",
    "        self.embedding.weight.requires_grad = False\n",
    "        self.dropout = nn.Dropout(self.dropout_prob)\n",
    "        self.lstm = nn.LSTM(self.embedding_dim, self.hidden_dim, self.num_layers, dropout=self.dropout_prob, batch_first=True)\n",
    "        self.linear = nn.Linear(self.hidden_dim, self.vocab_size)\n",
    "        self.softmax = nn.LogSoftmax(dim=2)\n",
    "\n",
    "\n",
    "    def forward(self, inputs, hidden):\n",
    "        embedding = self.embedding(inputs)\n",
    "        embedding = self.dropout(embedding)\n",
    "        lstm_out, hidden = self.lstm(embedding, hidden)\n",
    "        lstm_out = self.dropout(lstm_out)\n",
    "        outputs = self.linear(lstm_out)\n",
    "        outputs = self.softmax(outputs)\n",
    "        return outputs, hidden\n",
    "\n",
    "    def init_hidden(self, batch_size):\n",
    "        weight = next(self.parameters()).data\n",
    "        return (weight.new(self.num_layers, batch_size, self.hidden_dim).zero_().to(device),\n",
    "                weight.new(self.num_layers, batch_size, self.hidden_dim).zero_().to(device))\n",
    "        \n",
    "    def reuse_hidden(self, hidden):\n",
    "        return (hidden[0].detach(), hidden[1].detach())"
   ]
  },
  {
   "cell_type": "code",
   "execution_count": 31,
   "metadata": {},
   "outputs": [],
   "source": [
    "# Train the model\n",
    "def train(model, train_dataLoader, criterion, optimizer):\n",
    "    model.train()\n",
    "    epoch_loss = 0\n",
    "    for inputs, targets in train_dataLoader:\n",
    "        inputs = inputs.to(device)\n",
    "        targets = targets.to(device)\n",
    "        hidden = model.init_hidden(train_dataLoader.dataset.batch_size)\n",
    "        model.zero_grad()\n",
    "        outputs, hidden = model(inputs, hidden)\n",
    "        loss = criterion(outputs.view(-1, model.vocab_size), targets.view(-1))\n",
    "        loss.backward()\n",
    "        optimizer.step()\n",
    "        epoch_loss += loss.item()\n",
    "    return epoch_loss / len(train_dataLoader)"
   ]
  },
  {
   "cell_type": "code",
   "execution_count": 32,
   "metadata": {},
   "outputs": [],
   "source": [
    "# Test the model\n",
    "def test(model, test_dataLoader, criterion):\n",
    "    model.eval()\n",
    "    epoch_loss = 0\n",
    "    hidden = model.init_hidden(test_dataLoader.dataset.batch_size)\n",
    "    with torch.no_grad():\n",
    "        for inputs, targets in test_dataLoader:\n",
    "            inputs = inputs.to(device)\n",
    "            targets = targets.to(device)\n",
    "            outputs, hidden = model(inputs, hidden)\n",
    "            loss = criterion(outputs.view(-1, model.vocab_size), targets.view(-1))\n",
    "            epoch_loss += loss.item()\n",
    "    return epoch_loss / len(test_dataLoader)"
   ]
  },
  {
   "cell_type": "code",
   "execution_count": 33,
   "metadata": {},
   "outputs": [],
   "source": [
    "# args\n",
    "args = {\n",
    "    'vocab_size': len(vocab),\n",
    "    'embedding_dim': 300,\n",
    "    'hidden_dim': 300,\n",
    "    'num_layers': 2,\n",
    "    'dropout_prob': 0.5,\n",
    "    'tie_weights': True,\n",
    "    'glove_embeddings': glove_embeddings,\n",
    "    'lr': 0.001,\n",
    "    'epochs': 30,\n",
    "    'batch_size': 32,\n",
    "    'sequence_length': 10,\n",
    "    'save_path': 'assets/'\n",
    "}"
   ]
  },
  {
   "cell_type": "code",
   "execution_count": 34,
   "metadata": {},
   "outputs": [
    {
     "name": "stdout",
     "output_type": "stream",
     "text": [
      "Epoch: 0, Train Loss: 6.7418458678505635, Valid Loss: 5.980339525056922, Valid Perplexity: 395.5746528640529\n",
      "Epoch: 1, Train Loss: 5.872488337935823, Valid Loss: 5.4986125614332115, Valid Perplexity: 244.3526726457769\n",
      "Epoch: 2, Train Loss: 5.585147739934527, Valid Loss: 5.298233218815016, Valid Perplexity: 199.98317116146004\n",
      "Epoch: 3, Train Loss: 5.438310245672862, Valid Loss: 5.183656105787858, Valid Perplexity: 178.33362714843506\n",
      "Epoch: 4, Train Loss: 5.342155816141239, Valid Loss: 5.107667806874151, Valid Perplexity: 165.28442981174902\n",
      "Epoch: 5, Train Loss: 5.2748847830394086, Valid Loss: 5.057815149556036, Valid Perplexity: 157.24658047482583\n",
      "Epoch: 6, Train Loss: 5.2251391745795885, Valid Loss: 5.0196455437204115, Valid Perplexity: 151.3576446171002\n",
      "Epoch: 7, Train Loss: 5.185066760243135, Valid Loss: 4.989812774243562, Valid Perplexity: 146.9089157878136\n",
      "Epoch: 8, Train Loss: 5.151228062870088, Valid Loss: 4.963590555605681, Valid Perplexity: 143.10670711726968\n",
      "Epoch: 9, Train Loss: 5.122396049420695, Valid Loss: 4.947415882608165, Valid Perplexity: 140.8106221955568\n",
      "Epoch: 10, Train Loss: 5.099681676583513, Valid Loss: 4.929530622648156, Valid Perplexity: 138.31457537207226\n",
      "Epoch: 11, Train Loss: 5.079278872853797, Valid Loss: 4.919033452738886, Valid Perplexity: 136.8702576601679\n",
      "Epoch: 12, Train Loss: 5.0614644835803135, Valid Loss: 4.907042256645535, Valid Perplexity: 135.23882055084619\n",
      "Epoch: 13, Train Loss: 5.047153555328853, Valid Loss: 4.896072970265927, Valid Perplexity: 133.76345385212537\n",
      "Epoch: 14, Train Loss: 5.03248691624518, Valid Loss: 4.886705529171487, Valid Perplexity: 132.51628309668382\n",
      "Epoch: 15, Train Loss: 5.019418109547008, Valid Loss: 4.876963055652121, Valid Perplexity: 131.2315152879537\n",
      "Epoch: 16, Train Loss: 5.008614019093106, Valid Loss: 4.871457821389903, Valid Perplexity: 130.51104006580226\n",
      "Epoch: 17, Train Loss: 4.99863442327037, Valid Loss: 4.86954024149024, Valid Perplexity: 130.26101451728542\n",
      "Epoch: 18, Train Loss: 4.988454902303449, Valid Loss: 4.859943313183992, Valid Perplexity: 129.01688834347172\n",
      "Epoch: 19, Train Loss: 4.981562860412703, Valid Loss: 4.86160106866256, Valid Perplexity: 129.23094417404238\n",
      "Epoch: 20, Train Loss: 4.972511791657482, Valid Loss: 4.84961436105811, Valid Perplexity: 127.69113767464009\n",
      "Epoch: 21, Train Loss: 4.967584926398989, Valid Loss: 4.847734666907269, Valid Perplexity: 127.45134283112574\n",
      "Epoch: 22, Train Loss: 4.960694686604597, Valid Loss: 4.848574343971584, Valid Perplexity: 127.55840574336264\n",
      "Epoch: 23, Train Loss: 4.954072723047136, Valid Loss: 4.8417406310205875, Valid Perplexity: 126.68967990628977\n",
      "Epoch: 24, Train Loss: 4.94736767455566, Valid Loss: 4.835996165482894, Valid Perplexity: 125.96400171830426\n",
      "Epoch: 25, Train Loss: 4.943361886605087, Valid Loss: 4.836912795771723, Valid Perplexity: 126.07951707192927\n",
      "Epoch: 26, Train Loss: 4.93651073809826, Valid Loss: 4.836515250413314, Valid Perplexity: 126.029404706756\n",
      "Epoch: 27, Train Loss: 4.933724109463127, Valid Loss: 4.833047193029652, Valid Perplexity: 125.59308452822975\n",
      "Epoch: 28, Train Loss: 4.9294693177725, Valid Loss: 4.833836223768151, Valid Perplexity: 125.6922204379622\n",
      "Epoch: 29, Train Loss: 4.9254350677009455, Valid Loss: 4.831989920657614, Valid Perplexity: 125.46036860064355\n"
     ]
    }
   ],
   "source": [
    "## Train \n",
    "train_dataLoader = DataLoader(dataset=PennTreebankDataset(ptb_train_lines, args['sequence_length'], args['batch_size']), batch_size=args['batch_size'], shuffle=False)\n",
    "valid_dataLoader = DataLoader(dataset=PennTreebankDataset(ptb_valid_lines, args['sequence_length'], args['batch_size']), batch_size=args['batch_size'], shuffle=False)\n",
    "model = LSTM_LM(args['vocab_size'], args['embedding_dim'], args['hidden_dim'], args['num_layers'], args['dropout_prob'], args['glove_embeddings'])\n",
    "model.to(device)\n",
    "criterion = nn.NLLLoss()\n",
    "optimizer = optim.Adam(model.parameters(), lr=args['lr'])\n",
    "train_losses = []\n",
    "valid_losses = []\n",
    "for epoch in range(args['epochs']):\n",
    "    train_dataLoader.dataset.init_epoch()\n",
    "    train_loss = train(model, train_dataLoader, criterion, optimizer)\n",
    "    valid_loss = test(model, valid_dataLoader, criterion)\n",
    "    train_losses.append(train_loss)\n",
    "    valid_losses.append(valid_loss)\n",
    "    valid_perplexities = math.exp(valid_loss)\n",
    "    print('Epoch: {}, Train Loss: {}, Valid Loss: {}, Valid Perplexity: {}'.format(epoch, train_loss, valid_loss, valid_perplexities))\n"
   ]
  },
  {
   "attachments": {},
   "cell_type": "markdown",
   "metadata": {},
   "source": [
    "### Plot curves and save model"
   ]
  },
  {
   "cell_type": "code",
   "execution_count": 43,
   "metadata": {},
   "outputs": [
    {
     "data": {
      "image/png": "[encoded data removed]",
      "text/plain": [
       "<Figure size 640x480 with 1 Axes>"
      ]
     },
     "metadata": {},
     "output_type": "display_data"
    }
   ],
   "source": [
    "## plot the loss curve and save the model\n",
    "plt.plot(train_losses, label='train loss')\n",
    "plt.plot(valid_losses, label='valid loss')\n",
    "plt.legend()\n",
    "## save with utc time\n",
    "torch.save(model.state_dict(), args['save_path'] + 'models/case1_LM_' + datetime.utcnow().strftime(\"%Y-%m-%d-%H%MZ\") + '.pt')\n",
    "plt.savefig(args['save_path'] + 'curves/case1_loss_curve_' + datetime.utcnow().strftime(\"%Y-%m-%d-%H%MZ\") + '.png')"
   ]
  },
  {
   "cell_type": "code",
   "execution_count": 44,
   "metadata": {},
   "outputs": [
    {
     "name": "stdout",
     "output_type": "stream",
     "text": [
      "Test Loss: 4.740197233652791, Test Perplexity: 114.45677418171553\n"
     ]
    }
   ],
   "source": [
    "## Test\n",
    "test_dataLoader = DataLoader(dataset=PennTreebankDataset(ptb_test_lines, args['sequence_length'], args['batch_size']), batch_size=args['batch_size'], shuffle=False)\n",
    "model = LSTM_LM(args['vocab_size'], args['embedding_dim'], args['hidden_dim'], args['num_layers'], args['dropout_prob'], args['glove_embeddings'])\n",
    "model.load_state_dict(torch.load(args['save_path'] + 'models/case2_LM_2023-10-23-1710Z.pt'))\n",
    "model.to(device)\n",
    "criterion = nn.NLLLoss()\n",
    "test_loss = test(model, test_dataLoader, criterion)\n",
    "test_perplexity = math.exp(test_loss)\n",
    "print('Test Loss: {}, Test Perplexity: {}'.format(test_loss, test_perplexity))"
   ]
  },
  {
   "attachments": {},
   "cell_type": "markdown",
   "metadata": {},
   "source": [
    "### Generation"
   ]
  },
  {
   "cell_type": "code",
   "execution_count": 37,
   "metadata": {},
   "outputs": [],
   "source": [
    "def generate(model, seed, length):\n",
    "    model.eval()\n",
    "    with torch.no_grad():\n",
    "        inputs = torch.tensor([[vocab[token] for token in seed]]).to(device)\n",
    "        outputs = [vocab[token] for token in seed]\n",
    "        for i in range(length):\n",
    "            hidden = model.init_hidden(1)\n",
    "            output, hidden = model(inputs, hidden)\n",
    "            output = output.view(-1, model.vocab_size)\n",
    "            idx = np.argmax(output.cpu().numpy(), axis=1)\n",
    "            outputs.append(idx[-1])\n",
    "            inputs = torch.tensor([outputs]).to(device)\n",
    "            \n",
    "    return ' '.join([list(vocab.keys())[list(vocab.values()).index(i)] for i in outputs])"
   ]
  },
  {
   "cell_type": "code",
   "execution_count": 45,
   "metadata": {},
   "outputs": [
    {
     "name": "stdout",
     "output_type": "stream",
     "text": [
      "the good player is from the <unk> of the <unk> <unk> <eos> the <unk> <unk> <unk> <unk> <unk> <unk> <unk>\n"
     ]
    }
   ],
   "source": [
    "best_model = LSTM_LM(args['vocab_size'], args['embedding_dim'], args['hidden_dim'], args['num_layers'], args['dropout_prob'], args['glove_embeddings'])\n",
    "best_model.load_state_dict(torch.load(args['save_path'] + 'models/case2_LM_2023-10-23-1710Z.pt'))\n",
    "best_model.to(device)\n",
    "seed = ['the','good', 'player', 'is', 'from']\n",
    "print(generate(best_model, seed, 15))"
   ]
  },
  {
   "attachments": {},
   "cell_type": "markdown",
   "metadata": {},
   "source": [
    "### Test generation model"
   ]
  },
  {
   "cell_type": "code",
   "execution_count": 39,
   "metadata": {},
   "outputs": [],
   "source": [
    "# for i in range(10):\n",
    "#     sequence = input()\n",
    "#     seed = sequence.strip().split()\n",
    "#     print(generate(best_model,seed, 10))"
   ]
  }
 ],
 "metadata": {
  "kernelspec": {
   "display_name": "NLP",
   "language": "python",
   "name": "python3"
  },
  "language_info": {
   "codemirror_mode": {
    "name": "ipython",
    "version": 3
   },
   "file_extension": ".py",
   "mimetype": "text/x-python",
   "name": "python",
   "nbconvert_exporter": "python",
   "pygments_lexer": "ipython3",
   "version": "3.11.5"
  },
  "orig_nbformat": 4,
  "vscode": {
   "interpreter": {
    "hash": "7bf9b6708bea9f75880765e6879768f88c54db0b01e9f79b6f29681d96d3dcd7"
   }
  }
 },
 "nbformat": 4,
 "nbformat_minor": 2
}
