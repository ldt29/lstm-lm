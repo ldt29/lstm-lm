{
 "cells": [
  {
   "attachments": {},
   "cell_type": "markdown",
   "metadata": {},
   "source": [
    "# Train and Improve an Language Model with PyTorch"
   ]
  },
  {
   "attachments": {},
   "cell_type": "markdown",
   "metadata": {},
   "source": [
    "## Set up"
   ]
  },
  {
   "cell_type": "code",
   "execution_count": 1,
   "metadata": {},
   "outputs": [
    {
     "name": "stdout",
     "output_type": "stream",
     "text": [
      "cuda\n"
     ]
    }
   ],
   "source": [
    "import torch\n",
    "import torch.nn as nn\n",
    "import torch.nn.functional as F\n",
    "import torch.optim as optim\n",
    "from torch.utils.data import DataLoader, Dataset\n",
    "import numpy as np\n",
    "import random\n",
    "import os\n",
    "from datetime import datetime\n",
    "import math\n",
    "import matplotlib.pyplot as plt\n",
    "\n",
    "device = torch.device(\"cuda\" if torch.cuda.is_available() else \"cpu\")\n",
    "print(device)"
   ]
  },
  {
   "attachments": {},
   "cell_type": "markdown",
   "metadata": {},
   "source": [
    "##  Training a Language Model with RNNs and LSTMs"
   ]
  },
  {
   "attachments": {},
   "cell_type": "markdown",
   "metadata": {},
   "source": [
    "### Dataset and Preprocessing"
   ]
  },
  {
   "cell_type": "code",
   "execution_count": 2,
   "metadata": {},
   "outputs": [
    {
     "name": "stdout",
     "output_type": "stream",
     "text": [
      "42068\n",
      "[['aer', 'banknote', 'berlitz', 'calloway', 'centrust', 'cluett', 'fromstein', 'gitano', 'guterman', 'hydro-quebec', 'ipo', 'kia', 'memotec', 'mlx', 'nahb', 'punts', 'rake', 'regatta', 'rubens', 'sim', 'snack-food', 'ssangyong', 'swapo', 'wachter', '<eos>'], ['pierre', '<unk>', 'N', 'years', 'old', 'will', 'join', 'the', 'board', 'as', 'a', 'nonexecutive', 'director', 'nov.', 'N', '<eos>'], ['mr.', '<unk>', 'is', 'chairman', 'of', '<unk>', 'n.v.', 'the', 'dutch', 'publishing', 'group', '<eos>'], ['rudolph', '<unk>', 'N', 'years', 'old', 'and', 'former', 'chairman', 'of', 'consolidated', 'gold', 'fields', 'plc', 'was', 'named', 'a', 'nonexecutive', 'director', 'of', 'this', 'british', 'industrial', 'conglomerate', '<eos>'], ['a', 'form', 'of', 'asbestos', 'once', 'used', 'to', 'make', 'kent', 'cigarette', 'filters', 'has', 'caused', 'a', 'high', 'percentage', 'of', 'cancer', 'deaths', 'among', 'a', 'group', 'of', 'workers', 'exposed', 'to', 'it', 'more', 'than', 'N', 'years', 'ago', 'researchers', 'reported', '<eos>']]\n"
     ]
    }
   ],
   "source": [
    "# Read the training, validation, and testing files, and replace newlines with the \"<eos>\" token.\n",
    "def read_file(file_path):\n",
    "    with open(file_path, 'r') as f:\n",
    "        lines = f.readlines()\n",
    "        lines = [line.strip() for line in lines]\n",
    "        lines = [line.split() + ['<eos>'] for line in lines]\n",
    "        return lines\n",
    "ptb_train_lines = read_file('penn-treebank/ptb.train.txt')\n",
    "ptb_valid_lines = read_file('penn-treebank/ptb.valid.txt')\n",
    "ptb_test_lines = read_file('penn-treebank/ptb.test.txt')\n",
    "print(len(ptb_train_lines))\n",
    "print(ptb_train_lines[:5])"
   ]
  },
  {
   "attachments": {},
   "cell_type": "markdown",
   "metadata": {},
   "source": [
    "### DataLoader"
   ]
  },
  {
   "cell_type": "code",
   "execution_count": 3,
   "metadata": {},
   "outputs": [
    {
     "name": "stdout",
     "output_type": "stream",
     "text": [
      "929589\n",
      "['aer', 'banknote', 'berlitz', 'calloway', 'centrust', 'cluett', 'fromstein', 'gitano', 'guterman', 'hydro-quebec', 'ipo', 'kia', 'memotec', 'mlx', 'nahb', 'punts', 'rake', 'regatta', 'rubens', 'sim', 'snack-food', 'ssangyong', 'swapo', 'wachter', '<eos>', 'pierre', '<unk>', 'N', 'years', 'old', 'will', 'join', 'the', 'board', 'as', 'a', 'nonexecutive', 'director', 'nov.', 'N', '<eos>', 'mr.', '<unk>', 'is', 'chairman', 'of', '<unk>', 'n.v.', 'the', 'dutch', 'publishing', 'group', '<eos>', 'rudolph', '<unk>', 'N', 'years', 'old', 'and', 'former', 'chairman', 'of', 'consolidated', 'gold', 'fields', 'plc', 'was', 'named', 'a', 'nonexecutive', 'director', 'of', 'this', 'british', 'industrial', 'conglomerate', '<eos>', 'a', 'form', 'of', 'asbestos', 'once', 'used', 'to', 'make', 'kent', 'cigarette', 'filters', 'has', 'caused', 'a', 'high', 'percentage', 'of', 'cancer', 'deaths', 'among', 'a', 'group', 'of']\n"
     ]
    }
   ],
   "source": [
    "# Concatenate all articles in the training set into one long sequence.\n",
    "ptb_train_tokens = [token for line in ptb_train_lines for token in line]\n",
    "print(len(ptb_train_tokens))\n",
    "print(ptb_train_tokens[:100])"
   ]
  },
  {
   "cell_type": "code",
   "execution_count": 4,
   "metadata": {},
   "outputs": [],
   "source": [
    "# Generate batches with shape (batch size, sequence_length + 1).\n",
    "# Continuous Batching\n",
    "# use PyTorch's DataLoader class but overwrite the \"iter\" method.\n",
    "# The \"iter\" method is called when we use a for loop to iterate over the DataLoader object.\n",
    "# We will overwrite this method to return a generator that yields batches of data.\n",
    "# The \"init_epoch\" method is called at the end of each epoch to shuffle the data.\n",
    "# The \"shuffle_batches\" method shuffles the batches.\n",
    "# The \"__len__\" method returns the number of batches in the dataset.\n",
    "# The \"__getitem__\" method returns a batch of data given an index.\n",
    "\n",
    "class PennTreebankDataset(Dataset):\n",
    "    def __init__(self, data_lines, sequence_length, batch_size):\n",
    "        self.data_lines = data_lines\n",
    "        self.data = None\n",
    "        self.sequence_length = sequence_length\n",
    "        self.batch_size = batch_size\n",
    "        self.split_length = None\n",
    "        self.init_epoch()\n",
    "\n",
    "    def __len__(self):\n",
    "        return self.split_length  // self.sequence_length * self.batch_size\n",
    "    \n",
    "    def __getitem__(self, idx):\n",
    "        # Split the long sequence into batch size equal-length sequences\n",
    "        # For each split sequence, cut them into continuous parts\n",
    "        # Batch k is composed of the kth part of all the sequences.\n",
    "        batch_x = idx % self.batch_size\n",
    "        batch_y = idx // self.batch_size\n",
    "        inputs = self.data[batch_x * self.split_length + batch_y*self.sequence_length: batch_x * self.split_length + (batch_y+1)*self.sequence_length]\n",
    "        outputs = self.data[batch_x * self.split_length + batch_y*self.sequence_length + 1: batch_x * self.split_length + (batch_y+1)*self.sequence_length + 1]\n",
    "        return inputs, outputs\n",
    "    \n",
    "    def init_epoch(self):\n",
    "        self.data = self.shuffle_lines(self.data_lines)\n",
    "        self.split_length = len(self.data) // self.batch_size\n",
    "\n",
    "    def shuffle_lines(self, data_lines):\n",
    "        np.random.shuffle(data_lines)\n",
    "        data = [token for line in data_lines for token in line]\n",
    "        return self.tensor_from_tokens(data)\n",
    "    \n",
    "    def tensor_from_tokens(self, tokens):\n",
    "        token_ids = [vocab[token] for token in tokens]\n",
    "        return torch.tensor(token_ids, dtype=torch.long, device=device)\n",
    "    "
   ]
  },
  {
   "attachments": {},
   "cell_type": "markdown",
   "metadata": {},
   "source": [
    "### Word Embedding Initialization"
   ]
  },
  {
   "cell_type": "code",
   "execution_count": 5,
   "metadata": {},
   "outputs": [
    {
     "name": "stdout",
     "output_type": "stream",
     "text": [
      "Loading Glove embeddings...\n",
      "Done.\n",
      "torch.Size([400000, 300])\n",
      "tensor([ 4.6560e-02,  2.1318e-01, -7.4364e-03, -4.5854e-01, -3.5639e-02,\n",
      "         2.3643e-01, -2.8836e-01,  2.1521e-01, -1.3486e-01, -1.6413e+00,\n",
      "        -2.6091e-01,  3.2434e-02,  5.6621e-02, -4.3296e-02, -2.1672e-02,\n",
      "         2.2476e-01, -7.5129e-02, -6.7018e-02, -1.4247e-01,  3.8825e-02,\n",
      "        -1.8951e-01,  2.9977e-01,  3.9305e-01,  1.7887e-01, -1.7343e-01,\n",
      "        -2.1178e-01,  2.3617e-01, -6.3681e-02, -4.2318e-01, -1.1661e-01,\n",
      "         9.3754e-02,  1.7296e-01, -3.3073e-01,  4.9112e-01, -6.8995e-01,\n",
      "        -9.2462e-02,  2.4742e-01, -1.7991e-01,  9.7908e-02,  8.3118e-02,\n",
      "         1.5299e-01, -2.7276e-01, -3.8934e-02,  5.4453e-01,  5.3737e-01,\n",
      "         2.9105e-01, -7.3514e-03,  4.7880e-02, -4.0760e-01, -2.6759e-02,\n",
      "         1.7919e-01,  1.0977e-02, -1.0963e-01, -2.6395e-01,  7.3990e-02,\n",
      "         2.6236e-01, -1.5080e-01,  3.4623e-01,  2.5758e-01,  1.1971e-01,\n",
      "        -3.7135e-02, -7.1593e-02,  4.3898e-01, -4.0764e-02,  1.6425e-02,\n",
      "        -4.4640e-01,  1.7197e-01,  4.6246e-02,  5.8639e-02,  4.1499e-02,\n",
      "         5.3948e-01,  5.2495e-01,  1.1361e-01, -4.8315e-02, -3.6385e-01,\n",
      "         1.8704e-01,  9.2761e-02, -1.1129e-01, -4.2085e-01,  1.3992e-01,\n",
      "        -3.9338e-01, -6.7945e-02,  1.2188e-01,  1.6707e-01,  7.5169e-02,\n",
      "        -1.5529e-02, -1.9499e-01,  1.9638e-01,  5.3194e-02,  2.5170e-01,\n",
      "        -3.4845e-01, -1.0638e-01, -3.4692e-01, -1.9024e-01, -2.0040e-01,\n",
      "         1.2154e-01, -2.9208e-01,  2.3353e-02, -1.1618e-01, -3.5768e-01,\n",
      "         6.2304e-02,  3.5884e-01,  2.9060e-02,  7.3005e-03,  4.9482e-03,\n",
      "        -1.5048e-01, -1.2313e-01,  1.9337e-01,  1.2173e-01,  4.4503e-01,\n",
      "         2.5147e-01,  1.0781e-01, -1.7716e-01,  3.8691e-02,  8.1530e-02,\n",
      "         1.4667e-01,  6.3666e-02,  6.1332e-02, -7.5569e-02, -3.7724e-01,\n",
      "         1.5850e-02, -3.0342e-01,  2.8374e-01, -4.2013e-02, -4.0715e-02,\n",
      "        -1.5269e-01,  7.4980e-02,  1.5577e-01,  1.0433e-01,  3.1393e-01,\n",
      "         1.9309e-01,  1.9429e-01,  1.5185e-01, -1.0192e-01, -1.8785e-02,\n",
      "         2.0791e-01,  1.3366e-01,  1.9038e-01, -2.5558e-01,  3.0400e-01,\n",
      "        -1.8960e-02,  2.0147e-01, -4.2110e-01, -7.5156e-03, -2.7977e-01,\n",
      "        -1.9314e-01,  4.6204e-02,  1.9971e-01, -3.0207e-01,  2.5735e-01,\n",
      "         6.8107e-01, -1.9409e-01,  2.3984e-01,  2.2493e-01,  6.5224e-01,\n",
      "        -1.3561e-01, -1.7383e-01, -4.8209e-02, -1.1860e-01,  2.1588e-03,\n",
      "        -1.9525e-02,  1.1948e-01,  1.9346e-01, -4.0820e-01, -8.2966e-02,\n",
      "         1.6626e-01, -1.0601e-01,  3.5861e-01,  1.6922e-01,  7.2590e-02,\n",
      "        -2.4803e-01, -1.0024e-01, -5.2491e-01, -1.7745e-01, -3.6647e-01,\n",
      "         2.6180e-01, -1.2077e-02,  8.3190e-02, -2.1528e-01,  4.1045e-01,\n",
      "         2.9136e-01,  3.0869e-01,  7.8864e-02,  3.2207e-01, -4.1023e-02,\n",
      "        -1.0970e-01, -9.2041e-02, -1.2339e-01, -1.6416e-01,  3.5382e-01,\n",
      "        -8.2774e-02,  3.3171e-01, -2.4738e-01, -4.8928e-02,  1.5746e-01,\n",
      "         1.8988e-01, -2.6642e-02,  6.3315e-02, -1.0673e-02,  3.4089e-01,\n",
      "         1.4106e+00,  1.3417e-01,  2.8191e-01, -2.5940e-01,  5.5267e-02,\n",
      "        -5.2425e-02, -2.5789e-01,  1.9127e-02, -2.2084e-02,  3.2113e-01,\n",
      "         6.8818e-02,  5.1207e-01,  1.6478e-01, -2.0194e-01,  2.9232e-01,\n",
      "         9.8575e-02,  1.3145e-02, -1.0652e-01,  1.3510e-01, -4.5332e-02,\n",
      "         2.0697e-01, -4.8425e-01, -4.4706e-01,  3.3305e-03,  2.9264e-03,\n",
      "        -1.0975e-01, -2.3325e-01,  2.2442e-01, -1.0503e-01,  1.2339e-01,\n",
      "         1.0978e-01,  4.8994e-02, -2.5157e-01,  4.0319e-01,  3.5318e-01,\n",
      "         1.8651e-01, -2.3622e-02, -1.2734e-01,  1.1475e-01,  2.7359e-01,\n",
      "        -2.1866e-01,  1.5794e-02,  8.1754e-01, -2.3792e-02, -8.5469e-01,\n",
      "        -1.6203e-01,  1.8076e-01,  2.8014e-02, -1.4340e-01,  1.3139e-03,\n",
      "        -9.1735e-02, -8.9704e-02,  1.1105e-01, -1.6703e-01,  6.8377e-02,\n",
      "        -8.7388e-02, -3.9789e-02,  1.4184e-02,  2.1187e-01,  2.8579e-01,\n",
      "        -2.8797e-01, -5.8996e-02, -3.2436e-02, -4.7009e-03, -1.7052e-01,\n",
      "        -3.4741e-02, -1.1489e-01,  7.5093e-02,  9.9526e-02,  4.8183e-02,\n",
      "        -7.3775e-02, -4.1817e-01,  4.1268e-03,  4.4414e-01, -1.6062e-01,\n",
      "         1.4294e-01, -2.2628e+00, -2.7347e-02,  8.1311e-01,  7.7417e-01,\n",
      "        -2.5639e-01, -1.1576e-01, -1.1982e-01, -2.1363e-01,  2.8429e-02,\n",
      "         2.7261e-01,  3.1026e-02,  9.6782e-02,  6.7769e-03,  1.4082e-01,\n",
      "        -1.3064e-02, -2.9686e-01, -7.9913e-02,  1.9500e-01,  3.1549e-02,\n",
      "         2.8506e-01, -8.7461e-02,  9.0611e-03, -2.0989e-01,  5.3913e-02],\n",
      "       device='cuda:0')\n"
     ]
    }
   ],
   "source": [
    "# Initialize the word embeddings with Glove \n",
    "print('Loading Glove embeddings...')\n",
    "vocab = {}\n",
    "glove_embeddings = []\n",
    "with open('glove.6B/glove.6B.300d.txt', 'r', encoding='utf-8') as f:\n",
    "    for line in f.readlines():\n",
    "        line = line.strip().split()\n",
    "        vocab[line[0]] = len(vocab)\n",
    "        glove_embeddings.append([float(x) for x in line[1:]])\n",
    "print('Done.')\n",
    "glove_embeddings = torch.tensor(glove_embeddings, dtype=torch.float, device=device)\n",
    "print(glove_embeddings.shape)\n",
    "print(glove_embeddings[0])"
   ]
  },
  {
   "cell_type": "code",
   "execution_count": 6,
   "metadata": {},
   "outputs": [],
   "source": [
    "# For words not found in Glove, use random initializations.\n",
    "for token in ptb_train_tokens:\n",
    "    if token not in vocab.keys():\n",
    "        vocab[token] = len(vocab)\n",
    "        glove_embeddings = torch.cat((glove_embeddings, torch.randn(1, glove_embeddings.shape[1], device=device)), dim=0)"
   ]
  },
  {
   "cell_type": "code",
   "execution_count": 7,
   "metadata": {},
   "outputs": [
    {
     "name": "stdout",
     "output_type": "stream",
     "text": [
      "[['<unk>', 'has', 'to', 'be', 'the', '<unk>', 'of', 'your', 'plan', 'says', '<unk>', '<unk>', 'manager', 'of', 'corporate', 'emergency', 'planning', 'at', 'atlantic', 'richfield', 'co.', 'in', 'los', 'angeles', '<eos>'], ['international', 'investigators', 'urged', 'britain', 'to', 'allow', 'prosecution', 'of', 'suspected', '<unk>', 'war', 'criminals', 'who', 'took', 'refuge', 'there', 'after', 'N', '<eos>'], ['for', '$', 'N', 'million', 'you', 'can', 'move', '$', 'N', 'million', 'of', 'stocks', 'a', 'specialist', 'on', 'the', 'big', 'board', '<unk>', '<eos>'], ['but', 'he', 'said', 'it', 'wo', \"n't\", 'climb', 'further', 'and', 'he', 'expects', 'it', 'to', 'remain', 'in', 'a', 'trading', 'range', 'between', '$', 'N', 'and', '$', 'N', '<eos>'], ['earlier', '<unk>', 'moves', 'have', 'trimmed', 'about', 'N', 'jobs', 'the', 'spokesman', 'said', '<eos>']]\n",
      "tensor([400005,     31,      4,     30,      0, 400005,      3,    392,    394,\n",
      "           210, 400005, 400005,    865,      3,   1668,   1357,   1555,     22,\n",
      "          2353,  48572], device='cuda:0')\n",
      "(tensor([400005,     31,      4,     30,      0], device='cuda:0'), tensor([    31,      4,     30,      0, 400005], device='cuda:0'))\n"
     ]
    }
   ],
   "source": [
    "# test the vocab and dataloader\n",
    "ptb_train_dataset = PennTreebankDataset(ptb_train_lines, 5, 10)\n",
    "print(ptb_train_dataset.data_lines[:5])\n",
    "print(ptb_train_dataset.data[:20])\n",
    "print(ptb_train_dataset[0])"
   ]
  },
  {
   "attachments": {},
   "cell_type": "markdown",
   "metadata": {},
   "source": [
    "### Training and Generating "
   ]
  },
  {
   "cell_type": "code",
   "execution_count": 8,
   "metadata": {},
   "outputs": [],
   "source": [
    "# Train and Test an LSTM Language Model\n",
    "class LSTM_LM(nn.Module):\n",
    "    def __init__(self, vocab_size, embedding_dim, hidden_dim, num_layers, dropout_prob, glove_embeddings):\n",
    "        super(LSTM_LM, self).__init__()\n",
    "        self.vocab_size = vocab_size\n",
    "        self.embedding_dim = embedding_dim\n",
    "        self.hidden_dim = hidden_dim\n",
    "        self.num_layers = num_layers\n",
    "        self.dropout_prob = dropout_prob\n",
    "\n",
    "        self.embedding = nn.Embedding(self.vocab_size, self.embedding_dim)\n",
    "        self.embedding.weight.data.copy_(glove_embeddings)\n",
    "        self.embedding.weight.requires_grad = False\n",
    "        self.dropout = nn.Dropout(self.dropout_prob)\n",
    "        self.lstm = nn.LSTM(self.embedding_dim, self.hidden_dim, self.num_layers, dropout=self.dropout_prob, batch_first=True)\n",
    "        self.linear = nn.Linear(self.hidden_dim, self.vocab_size)\n",
    "        self.softmax = nn.LogSoftmax(dim=2)\n",
    "\n",
    "\n",
    "    def forward(self, inputs, hidden):\n",
    "        embedding = self.embedding(inputs)\n",
    "        embedding = self.dropout(embedding)\n",
    "        lstm_out, hidden = self.lstm(embedding, hidden)\n",
    "        lstm_out = self.dropout(lstm_out)\n",
    "        outputs = self.linear(lstm_out)\n",
    "        outputs = self.softmax(outputs)\n",
    "        return outputs, hidden\n",
    "\n",
    "    def init_hidden(self, batch_size):\n",
    "        weight = next(self.parameters()).data\n",
    "        return (weight.new(self.num_layers, batch_size, self.hidden_dim).zero_().to(device),\n",
    "                weight.new(self.num_layers, batch_size, self.hidden_dim).zero_().to(device))\n",
    "        \n",
    "    def reuse_hidden(self, hidden):\n",
    "        return (hidden[0].detach(), hidden[1].detach())"
   ]
  },
  {
   "cell_type": "code",
   "execution_count": 21,
   "metadata": {},
   "outputs": [],
   "source": [
    "# Train the model\n",
    "def train(model, train_dataLoader, criterion, optimizer, reuse=True):\n",
    "    model.train()\n",
    "    epoch_loss = 0\n",
    "    hidden = model.init_hidden(train_dataLoader.dataset.batch_size)\n",
    "    for inputs, targets in train_dataLoader:\n",
    "        inputs = inputs.to(device)\n",
    "        targets = targets.to(device)\n",
    "        if reuse:\n",
    "            hidden = model.reuse_hidden(hidden)\n",
    "        else:\n",
    "            hidden = model.init_hidden(train_dataLoader.dataset.batch_size)\n",
    "        model.zero_grad()\n",
    "        outputs, hidden = model(inputs, hidden)\n",
    "        loss = criterion(outputs.view(-1, model.vocab_size), targets.view(-1))\n",
    "        loss.backward()\n",
    "        optimizer.step()\n",
    "        epoch_loss += loss.item()\n",
    "    return epoch_loss / len(train_dataLoader)"
   ]
  },
  {
   "cell_type": "code",
   "execution_count": 23,
   "metadata": {},
   "outputs": [],
   "source": [
    "# Test the model\n",
    "def test(model, test_dataLoader, criterion):\n",
    "    model.eval()\n",
    "    epoch_loss = 0\n",
    "    hidden = model.init_hidden(test_dataLoader.dataset.batch_size)\n",
    "    with torch.no_grad():\n",
    "        for inputs, targets in test_dataLoader:\n",
    "            inputs = inputs.to(device)\n",
    "            targets = targets.to(device)\n",
    "            outputs, hidden = model(inputs, hidden)\n",
    "            loss = criterion(outputs.view(-1, model.vocab_size), targets.view(-1))\n",
    "            epoch_loss += loss.item()\n",
    "    return epoch_loss / len(test_dataLoader)"
   ]
  },
  {
   "cell_type": "code",
   "execution_count": 11,
   "metadata": {},
   "outputs": [],
   "source": [
    "# args\n",
    "args = {\n",
    "    'vocab_size': len(vocab),\n",
    "    'embedding_dim': 300,\n",
    "    'hidden_dim': 300,\n",
    "    'num_layers': 2,\n",
    "    'dropout_prob': 0.5,\n",
    "    'tie_weights': True,\n",
    "    'glove_embeddings': glove_embeddings,\n",
    "    'lr': 0.001,\n",
    "    'epochs': 30,\n",
    "    'batch_size': 32,\n",
    "    'sequence_length': 10,\n",
    "    'save_path': 'assets/'\n",
    "}"
   ]
  },
  {
   "cell_type": "code",
   "execution_count": 24,
   "metadata": {},
   "outputs": [
    {
     "name": "stdout",
     "output_type": "stream",
     "text": [
      "Epoch: 0, Train Loss: 6.488393565511572, Valid Loss: 5.754507931419041, Valid Perplexity: 315.61020744144065\n",
      "Epoch: 1, Train Loss: 5.691513708471923, Valid Loss: 5.376787388843039, Valid Perplexity: 216.32618597266583\n",
      "Epoch: 2, Train Loss: 5.439304684968691, Valid Loss: 5.207398410465406, Valid Perplexity: 182.6183416859338\n",
      "Epoch: 3, Train Loss: 5.294244327492622, Valid Loss: 5.1044695626134455, Valid Perplexity: 164.7566542601584\n",
      "Epoch: 4, Train Loss: 5.196467325378713, Valid Loss: 5.038747638204823, Valid Perplexity: 154.27668376618232\n",
      "Epoch: 5, Train Loss: 5.123173687412062, Valid Loss: 4.985783158177915, Valid Perplexity: 146.31812039929758\n",
      "Epoch: 6, Train Loss: 5.065894574994227, Valid Loss: 4.957863320475039, Valid Perplexity: 142.289443920019\n",
      "Epoch: 7, Train Loss: 5.019824270702919, Valid Loss: 4.9308415495831035, Valid Perplexity: 138.49601457520853\n",
      "Epoch: 8, Train Loss: 4.9823237550816915, Valid Loss: 4.9089706358702285, Valid Perplexity: 135.49986389715744\n",
      "Epoch: 9, Train Loss: 4.9508516683394586, Valid Loss: 4.89189018373904, Valid Perplexity: 133.2051183926206\n",
      "Epoch: 10, Train Loss: 4.921372749917107, Valid Loss: 4.876245030112888, Valid Perplexity: 131.1373215292338\n",
      "Epoch: 11, Train Loss: 4.898419000885704, Valid Loss: 4.8660139622895615, Valid Perplexity: 129.8024867347608\n",
      "Epoch: 12, Train Loss: 4.877003739031221, Valid Loss: 4.856658616273299, Valid Perplexity: 128.593802204168\n",
      "Epoch: 13, Train Loss: 4.859684944152832, Valid Loss: 4.851308246280836, Valid Perplexity: 127.90761509801385\n",
      "Epoch: 14, Train Loss: 4.843064693872594, Valid Loss: 4.84263651267342, Valid Perplexity: 126.80322972212474\n",
      "Epoch: 15, Train Loss: 4.827498535315196, Valid Loss: 4.835879562212074, Valid Perplexity: 125.94931475998864\n",
      "Epoch: 16, Train Loss: 4.814545447504553, Valid Loss: 4.8274308660755985, Valid Perplexity: 124.88968979867876\n",
      "Epoch: 17, Train Loss: 4.803397283902181, Valid Loss: 4.827495303361312, Valid Perplexity: 124.89773761058977\n",
      "Epoch: 18, Train Loss: 4.79094660249295, Valid Loss: 4.823240267712137, Valid Perplexity: 124.36742233987397\n",
      "Epoch: 19, Train Loss: 4.781467807194418, Valid Loss: 4.820385308887648, Valid Perplexity: 124.0128648343523\n",
      "Epoch: 20, Train Loss: 4.7709342288905265, Valid Loss: 4.815322444749915, Valid Perplexity: 123.38659125513803\n",
      "Epoch: 21, Train Loss: 4.761638800303142, Valid Loss: 4.8157456315082054, Valid Perplexity: 123.4388178767357\n",
      "Epoch: 22, Train Loss: 4.754606102616334, Valid Loss: 4.80781862217447, Valid Perplexity: 122.46418527974402\n",
      "Epoch: 23, Train Loss: 4.746624783379316, Valid Loss: 4.802815033041912, Valid Perplexity: 121.8529552603162\n",
      "Epoch: 24, Train Loss: 4.73932582287749, Valid Loss: 4.80769074274146, Valid Perplexity: 122.44852563046129\n",
      "Epoch: 25, Train Loss: 4.732006644250276, Valid Loss: 4.802636834849482, Valid Perplexity: 121.83124321852725\n",
      "Epoch: 26, Train Loss: 4.726584864385201, Valid Loss: 4.802499012325121, Valid Perplexity: 121.81445328608294\n",
      "Epoch: 27, Train Loss: 4.721991477098018, Valid Loss: 4.7992565445278, Valid Perplexity: 121.42011350656676\n",
      "Epoch: 28, Train Loss: 4.71568375940822, Valid Loss: 4.797545099258423, Valid Perplexity: 121.21248734878034\n",
      "Epoch: 29, Train Loss: 4.710177395544105, Valid Loss: 4.800761929802273, Valid Perplexity: 121.60303520673673\n"
     ]
    }
   ],
   "source": [
    "## Train \n",
    "train_dataLoader = DataLoader(dataset=PennTreebankDataset(ptb_train_lines, args['sequence_length'], args['batch_size']), batch_size=args['batch_size'], shuffle=False)\n",
    "valid_dataLoader = DataLoader(dataset=PennTreebankDataset(ptb_valid_lines, args['sequence_length'], args['batch_size']), batch_size=args['batch_size'], shuffle=False)\n",
    "model = LSTM_LM(args['vocab_size'], args['embedding_dim'], args['hidden_dim'], args['num_layers'], args['dropout_prob'], args['glove_embeddings'])\n",
    "model.to(device)\n",
    "criterion = nn.NLLLoss()\n",
    "optimizer = optim.Adam(model.parameters(), lr=args['lr'])\n",
    "train_losses = []\n",
    "valid_losses = []\n",
    "for epoch in range(args['epochs']):\n",
    "    train_dataLoader.dataset.init_epoch()\n",
    "    train_loss = train(model, train_dataLoader, criterion, optimizer, reuse=True)\n",
    "    valid_loss = test(model, valid_dataLoader, criterion)\n",
    "    train_losses.append(train_loss)\n",
    "    valid_losses.append(valid_loss)\n",
    "    valid_perplexities = math.exp(valid_loss)\n",
    "    print('Epoch: {}, Train Loss: {}, Valid Loss: {}, Valid Perplexity: {}'.format(epoch, train_loss, valid_loss, valid_perplexities))\n"
   ]
  },
  {
   "attachments": {},
   "cell_type": "markdown",
   "metadata": {},
   "source": [
    "### Plot curves and save model"
   ]
  },
  {
   "cell_type": "code",
   "execution_count": 25,
   "metadata": {},
   "outputs": [
    {
     "data": {
      "image/png": "[encoded data removed]",
      "text/plain": [
       "<Figure size 640x480 with 1 Axes>"
      ]
     },
     "metadata": {},
     "output_type": "display_data"
    }
   ],
   "source": [
    "## plot the loss curve and save the model\n",
    "plt.plot(train_losses, label='train loss')\n",
    "plt.plot(valid_losses, label='valid loss')\n",
    "plt.legend()\n",
    "## save with utc time\n",
    "torch.save(model.state_dict(), args['save_path'] + 'models/case3_LM_' + datetime.utcnow().strftime(\"%Y-%m-%d-%H%MZ\") + '.pt')\n",
    "plt.savefig(args['save_path'] + 'curves/case3_loss_curve_' + datetime.utcnow().strftime(\"%Y-%m-%d-%H%MZ\") + '.png')"
   ]
  },
  {
   "cell_type": "code",
   "execution_count": 27,
   "metadata": {},
   "outputs": [
    {
     "name": "stdout",
     "output_type": "stream",
     "text": [
      "Test Loss: 4.714834589902529, Test Perplexity: 111.59035147612548\n"
     ]
    }
   ],
   "source": [
    "## Test\n",
    "test_dataLoader = DataLoader(dataset=PennTreebankDataset(ptb_test_lines, args['sequence_length'], args['batch_size']), batch_size=args['batch_size'], shuffle=False)\n",
    "model = LSTM_LM(args['vocab_size'], args['embedding_dim'], args['hidden_dim'], args['num_layers'], args['dropout_prob'], args['glove_embeddings'])\n",
    "model.load_state_dict(torch.load(args['save_path'] + 'models/case3_LM_2023-10-24-0515Z.pt'))\n",
    "model.to(device)\n",
    "criterion = nn.NLLLoss()\n",
    "test_loss = test(model, test_dataLoader, criterion)\n",
    "test_perplexity = math.exp(test_loss)\n",
    "print('Test Loss: {}, Test Perplexity: {}'.format(test_loss, test_perplexity))"
   ]
  },
  {
   "attachments": {},
   "cell_type": "markdown",
   "metadata": {},
   "source": [
    "### Generation"
   ]
  },
  {
   "cell_type": "code",
   "execution_count": 15,
   "metadata": {},
   "outputs": [],
   "source": [
    "def generate(model, seed, length):\n",
    "    model.eval()\n",
    "    with torch.no_grad():\n",
    "        inputs = torch.tensor([[vocab[token] for token in seed]]).to(device)\n",
    "        outputs = [vocab[token] for token in seed]\n",
    "        for i in range(length):\n",
    "            hidden = model.init_hidden(1)\n",
    "            output, hidden = model(inputs, hidden)\n",
    "            output = output.view(-1, model.vocab_size)\n",
    "            idx = np.argmax(output.cpu().numpy(), axis=1)\n",
    "            outputs.append(idx[-1])\n",
    "            inputs = torch.tensor([outputs]).to(device)\n",
    "            \n",
    "    return ' '.join([list(vocab.keys())[list(vocab.values()).index(i)] for i in outputs])"
   ]
  },
  {
   "cell_type": "code",
   "execution_count": 19,
   "metadata": {},
   "outputs": [
    {
     "name": "stdout",
     "output_type": "stream",
     "text": [
      "the good player is from the <unk> of the <unk> <eos> the <unk> <unk> <unk> <unk> <unk> <unk> <unk> <unk>\n"
     ]
    }
   ],
   "source": [
    "best_model = LSTM_LM(args['vocab_size'], args['embedding_dim'], args['hidden_dim'], args['num_layers'], args['dropout_prob'], args['glove_embeddings'])\n",
    "best_model.load_state_dict(torch.load(args['save_path'] + 'models/case1_LM_2023-10-24-0403Z.pt'))\n",
    "best_model.to(device)\n",
    "seed = ['the','good', 'player', 'is', 'from']\n",
    "print(generate(best_model, seed, 15))"
   ]
  },
  {
   "attachments": {},
   "cell_type": "markdown",
   "metadata": {},
   "source": [
    "### Test generation model"
   ]
  },
  {
   "cell_type": "code",
   "execution_count": 17,
   "metadata": {},
   "outputs": [],
   "source": [
    "# for i in range(10):\n",
    "#     sequence = input()\n",
    "#     seed = sequence.strip().split()\n",
    "#     print(generate(best_model,seed, 10))"
   ]
  }
 ],
 "metadata": {
  "kernelspec": {
   "display_name": "NLP",
   "language": "python",
   "name": "python3"
  },
  "language_info": {
   "codemirror_mode": {
    "name": "ipython",
    "version": 3
   },
   "file_extension": ".py",
   "mimetype": "text/x-python",
   "name": "python",
   "nbconvert_exporter": "python",
   "pygments_lexer": "ipython3",
   "version": "3.11.5"
  },
  "orig_nbformat": 4,
  "vscode": {
   "interpreter": {
    "hash": "7bf9b6708bea9f75880765e6879768f88c54db0b01e9f79b6f29681d96d3dcd7"
   }
  }
 },
 "nbformat": 4,
 "nbformat_minor": 2
}
