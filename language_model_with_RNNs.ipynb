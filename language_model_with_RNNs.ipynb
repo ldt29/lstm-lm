{
 "cells": [
  {
   "attachments": {},
   "cell_type": "markdown",
   "metadata": {},
   "source": [
    "# Train and Improve an Language Model with PyTorch"
   ]
  },
  {
   "attachments": {},
   "cell_type": "markdown",
   "metadata": {},
   "source": [
    "## Set up"
   ]
  },
  {
   "cell_type": "code",
   "execution_count": 2,
   "metadata": {},
   "outputs": [
    {
     "name": "stdout",
     "output_type": "stream",
     "text": [
      "cuda\n"
     ]
    }
   ],
   "source": [
    "import torch\n",
    "import torch.nn as nn\n",
    "import torch.nn.functional as F\n",
    "import torch.optim as optim\n",
    "from torch.utils.data import DataLoader, Dataset\n",
    "import numpy as np\n",
    "import random\n",
    "import os\n",
    "from datetime import datetime\n",
    "import math\n",
    "import matplotlib.pyplot as plt\n",
    "\n",
    "device = torch.device(\"cuda\" if torch.cuda.is_available() else \"cpu\")\n",
    "print(device)"
   ]
  },
  {
   "attachments": {},
   "cell_type": "markdown",
   "metadata": {},
   "source": [
    "##  Training a Language Model with RNNs and LSTMs"
   ]
  },
  {
   "attachments": {},
   "cell_type": "markdown",
   "metadata": {},
   "source": [
    "### Dataset and Preprocessing"
   ]
  },
  {
   "cell_type": "code",
   "execution_count": 3,
   "metadata": {},
   "outputs": [
    {
     "name": "stdout",
     "output_type": "stream",
     "text": [
      "42068\n",
      "[['aer', 'banknote', 'berlitz', 'calloway', 'centrust', 'cluett', 'fromstein', 'gitano', 'guterman', 'hydro-quebec', 'ipo', 'kia', 'memotec', 'mlx', 'nahb', 'punts', 'rake', 'regatta', 'rubens', 'sim', 'snack-food', 'ssangyong', 'swapo', 'wachter', '<eos>'], ['pierre', '<unk>', 'N', 'years', 'old', 'will', 'join', 'the', 'board', 'as', 'a', 'nonexecutive', 'director', 'nov.', 'N', '<eos>'], ['mr.', '<unk>', 'is', 'chairman', 'of', '<unk>', 'n.v.', 'the', 'dutch', 'publishing', 'group', '<eos>'], ['rudolph', '<unk>', 'N', 'years', 'old', 'and', 'former', 'chairman', 'of', 'consolidated', 'gold', 'fields', 'plc', 'was', 'named', 'a', 'nonexecutive', 'director', 'of', 'this', 'british', 'industrial', 'conglomerate', '<eos>'], ['a', 'form', 'of', 'asbestos', 'once', 'used', 'to', 'make', 'kent', 'cigarette', 'filters', 'has', 'caused', 'a', 'high', 'percentage', 'of', 'cancer', 'deaths', 'among', 'a', 'group', 'of', 'workers', 'exposed', 'to', 'it', 'more', 'than', 'N', 'years', 'ago', 'researchers', 'reported', '<eos>']]\n"
     ]
    }
   ],
   "source": [
    "# Read the training, validation, and testing files, and replace newlines with the \"<eos>\" token.\n",
    "def read_file(file_path):\n",
    "    with open(file_path, 'r') as f:\n",
    "        lines = f.readlines()\n",
    "        lines = [line.strip() for line in lines]\n",
    "        lines = [line.split() + ['<eos>'] for line in lines]\n",
    "        return lines\n",
    "ptb_train_lines = read_file('penn-treebank/ptb.train.txt')\n",
    "ptb_valid_lines = read_file('penn-treebank/ptb.valid.txt')\n",
    "ptb_test_lines = read_file('penn-treebank/ptb.test.txt')\n",
    "print(len(ptb_train_lines))\n",
    "print(ptb_train_lines[:5])"
   ]
  },
  {
   "attachments": {},
   "cell_type": "markdown",
   "metadata": {},
   "source": [
    "### DataLoader"
   ]
  },
  {
   "cell_type": "code",
   "execution_count": 4,
   "metadata": {},
   "outputs": [
    {
     "name": "stdout",
     "output_type": "stream",
     "text": [
      "929589\n",
      "['aer', 'banknote', 'berlitz', 'calloway', 'centrust', 'cluett', 'fromstein', 'gitano', 'guterman', 'hydro-quebec', 'ipo', 'kia', 'memotec', 'mlx', 'nahb', 'punts', 'rake', 'regatta', 'rubens', 'sim', 'snack-food', 'ssangyong', 'swapo', 'wachter', '<eos>', 'pierre', '<unk>', 'N', 'years', 'old', 'will', 'join', 'the', 'board', 'as', 'a', 'nonexecutive', 'director', 'nov.', 'N', '<eos>', 'mr.', '<unk>', 'is', 'chairman', 'of', '<unk>', 'n.v.', 'the', 'dutch', 'publishing', 'group', '<eos>', 'rudolph', '<unk>', 'N', 'years', 'old', 'and', 'former', 'chairman', 'of', 'consolidated', 'gold', 'fields', 'plc', 'was', 'named', 'a', 'nonexecutive', 'director', 'of', 'this', 'british', 'industrial', 'conglomerate', '<eos>', 'a', 'form', 'of', 'asbestos', 'once', 'used', 'to', 'make', 'kent', 'cigarette', 'filters', 'has', 'caused', 'a', 'high', 'percentage', 'of', 'cancer', 'deaths', 'among', 'a', 'group', 'of']\n"
     ]
    }
   ],
   "source": [
    "# Concatenate all articles in the training set into one long sequence.\n",
    "ptb_train_tokens = [token for line in ptb_train_lines for token in line]\n",
    "print(len(ptb_train_tokens))\n",
    "print(ptb_train_tokens[:100])"
   ]
  },
  {
   "cell_type": "code",
   "execution_count": 5,
   "metadata": {},
   "outputs": [],
   "source": [
    "# Generate batches with shape (batch size, sequence_length + 1).\n",
    "# Continuous Batching\n",
    "# use PyTorch's DataLoader class but overwrite the \"iter\" method.\n",
    "# The \"iter\" method is called when we use a for loop to iterate over the DataLoader object.\n",
    "# We will overwrite this method to return a generator that yields batches of data.\n",
    "# The \"init_epoch\" method is called at the end of each epoch to shuffle the data.\n",
    "# The \"shuffle_batches\" method shuffles the batches.\n",
    "# The \"__len__\" method returns the number of batches in the dataset.\n",
    "# The \"__getitem__\" method returns a batch of data given an index.\n",
    "\n",
    "class PennTreebankDataset(Dataset):\n",
    "    def __init__(self, data_lines, sequence_length, batch_size):\n",
    "        self.data_lines = data_lines\n",
    "        self.data = None\n",
    "        self.sequence_length = sequence_length\n",
    "        self.batch_size = batch_size\n",
    "        self.split_length = None\n",
    "        self.init_epoch()\n",
    "\n",
    "    def __len__(self):\n",
    "        return self.split_length  // self.sequence_length * self.batch_size\n",
    "    \n",
    "    def __getitem__(self, idx):\n",
    "        # Split the long sequence into batch size equal-length sequences\n",
    "        # For each split sequence, cut them into continuous parts\n",
    "        # Batch k is composed of the kth part of all the sequences.\n",
    "        batch_x = idx % self.batch_size\n",
    "        batch_y = idx // self.batch_size\n",
    "        inputs = self.data[batch_x * self.split_length + batch_y*self.sequence_length: batch_x * self.split_length + (batch_y+1)*self.sequence_length]\n",
    "        outputs = self.data[batch_x * self.split_length + batch_y*self.sequence_length + 1: batch_x * self.split_length + (batch_y+1)*self.sequence_length + 1]\n",
    "        return inputs, outputs\n",
    "    \n",
    "    def init_epoch(self):\n",
    "        self.data = self.shuffle_lines(self.data_lines)\n",
    "        self.split_length = len(self.data) // self.batch_size\n",
    "\n",
    "    def shuffle_lines(self, data_lines):\n",
    "        np.random.shuffle(data_lines)\n",
    "        data = [token for line in data_lines for token in line]\n",
    "        return self.tensor_from_tokens(data)\n",
    "    \n",
    "    def tensor_from_tokens(self, tokens):\n",
    "        token_ids = [vocab[token] for token in tokens]\n",
    "        return torch.tensor(token_ids, dtype=torch.long, device=device)\n",
    "    "
   ]
  },
  {
   "attachments": {},
   "cell_type": "markdown",
   "metadata": {},
   "source": [
    "### Word Embedding Initialization"
   ]
  },
  {
   "cell_type": "code",
   "execution_count": 6,
   "metadata": {},
   "outputs": [
    {
     "name": "stdout",
     "output_type": "stream",
     "text": [
      "Loading Glove embeddings...\n",
      "Done.\n",
      "torch.Size([400000, 300])\n",
      "tensor([ 4.6560e-02,  2.1318e-01, -7.4364e-03, -4.5854e-01, -3.5639e-02,\n",
      "         2.3643e-01, -2.8836e-01,  2.1521e-01, -1.3486e-01, -1.6413e+00,\n",
      "        -2.6091e-01,  3.2434e-02,  5.6621e-02, -4.3296e-02, -2.1672e-02,\n",
      "         2.2476e-01, -7.5129e-02, -6.7018e-02, -1.4247e-01,  3.8825e-02,\n",
      "        -1.8951e-01,  2.9977e-01,  3.9305e-01,  1.7887e-01, -1.7343e-01,\n",
      "        -2.1178e-01,  2.3617e-01, -6.3681e-02, -4.2318e-01, -1.1661e-01,\n",
      "         9.3754e-02,  1.7296e-01, -3.3073e-01,  4.9112e-01, -6.8995e-01,\n",
      "        -9.2462e-02,  2.4742e-01, -1.7991e-01,  9.7908e-02,  8.3118e-02,\n",
      "         1.5299e-01, -2.7276e-01, -3.8934e-02,  5.4453e-01,  5.3737e-01,\n",
      "         2.9105e-01, -7.3514e-03,  4.7880e-02, -4.0760e-01, -2.6759e-02,\n",
      "         1.7919e-01,  1.0977e-02, -1.0963e-01, -2.6395e-01,  7.3990e-02,\n",
      "         2.6236e-01, -1.5080e-01,  3.4623e-01,  2.5758e-01,  1.1971e-01,\n",
      "        -3.7135e-02, -7.1593e-02,  4.3898e-01, -4.0764e-02,  1.6425e-02,\n",
      "        -4.4640e-01,  1.7197e-01,  4.6246e-02,  5.8639e-02,  4.1499e-02,\n",
      "         5.3948e-01,  5.2495e-01,  1.1361e-01, -4.8315e-02, -3.6385e-01,\n",
      "         1.8704e-01,  9.2761e-02, -1.1129e-01, -4.2085e-01,  1.3992e-01,\n",
      "        -3.9338e-01, -6.7945e-02,  1.2188e-01,  1.6707e-01,  7.5169e-02,\n",
      "        -1.5529e-02, -1.9499e-01,  1.9638e-01,  5.3194e-02,  2.5170e-01,\n",
      "        -3.4845e-01, -1.0638e-01, -3.4692e-01, -1.9024e-01, -2.0040e-01,\n",
      "         1.2154e-01, -2.9208e-01,  2.3353e-02, -1.1618e-01, -3.5768e-01,\n",
      "         6.2304e-02,  3.5884e-01,  2.9060e-02,  7.3005e-03,  4.9482e-03,\n",
      "        -1.5048e-01, -1.2313e-01,  1.9337e-01,  1.2173e-01,  4.4503e-01,\n",
      "         2.5147e-01,  1.0781e-01, -1.7716e-01,  3.8691e-02,  8.1530e-02,\n",
      "         1.4667e-01,  6.3666e-02,  6.1332e-02, -7.5569e-02, -3.7724e-01,\n",
      "         1.5850e-02, -3.0342e-01,  2.8374e-01, -4.2013e-02, -4.0715e-02,\n",
      "        -1.5269e-01,  7.4980e-02,  1.5577e-01,  1.0433e-01,  3.1393e-01,\n",
      "         1.9309e-01,  1.9429e-01,  1.5185e-01, -1.0192e-01, -1.8785e-02,\n",
      "         2.0791e-01,  1.3366e-01,  1.9038e-01, -2.5558e-01,  3.0400e-01,\n",
      "        -1.8960e-02,  2.0147e-01, -4.2110e-01, -7.5156e-03, -2.7977e-01,\n",
      "        -1.9314e-01,  4.6204e-02,  1.9971e-01, -3.0207e-01,  2.5735e-01,\n",
      "         6.8107e-01, -1.9409e-01,  2.3984e-01,  2.2493e-01,  6.5224e-01,\n",
      "        -1.3561e-01, -1.7383e-01, -4.8209e-02, -1.1860e-01,  2.1588e-03,\n",
      "        -1.9525e-02,  1.1948e-01,  1.9346e-01, -4.0820e-01, -8.2966e-02,\n",
      "         1.6626e-01, -1.0601e-01,  3.5861e-01,  1.6922e-01,  7.2590e-02,\n",
      "        -2.4803e-01, -1.0024e-01, -5.2491e-01, -1.7745e-01, -3.6647e-01,\n",
      "         2.6180e-01, -1.2077e-02,  8.3190e-02, -2.1528e-01,  4.1045e-01,\n",
      "         2.9136e-01,  3.0869e-01,  7.8864e-02,  3.2207e-01, -4.1023e-02,\n",
      "        -1.0970e-01, -9.2041e-02, -1.2339e-01, -1.6416e-01,  3.5382e-01,\n",
      "        -8.2774e-02,  3.3171e-01, -2.4738e-01, -4.8928e-02,  1.5746e-01,\n",
      "         1.8988e-01, -2.6642e-02,  6.3315e-02, -1.0673e-02,  3.4089e-01,\n",
      "         1.4106e+00,  1.3417e-01,  2.8191e-01, -2.5940e-01,  5.5267e-02,\n",
      "        -5.2425e-02, -2.5789e-01,  1.9127e-02, -2.2084e-02,  3.2113e-01,\n",
      "         6.8818e-02,  5.1207e-01,  1.6478e-01, -2.0194e-01,  2.9232e-01,\n",
      "         9.8575e-02,  1.3145e-02, -1.0652e-01,  1.3510e-01, -4.5332e-02,\n",
      "         2.0697e-01, -4.8425e-01, -4.4706e-01,  3.3305e-03,  2.9264e-03,\n",
      "        -1.0975e-01, -2.3325e-01,  2.2442e-01, -1.0503e-01,  1.2339e-01,\n",
      "         1.0978e-01,  4.8994e-02, -2.5157e-01,  4.0319e-01,  3.5318e-01,\n",
      "         1.8651e-01, -2.3622e-02, -1.2734e-01,  1.1475e-01,  2.7359e-01,\n",
      "        -2.1866e-01,  1.5794e-02,  8.1754e-01, -2.3792e-02, -8.5469e-01,\n",
      "        -1.6203e-01,  1.8076e-01,  2.8014e-02, -1.4340e-01,  1.3139e-03,\n",
      "        -9.1735e-02, -8.9704e-02,  1.1105e-01, -1.6703e-01,  6.8377e-02,\n",
      "        -8.7388e-02, -3.9789e-02,  1.4184e-02,  2.1187e-01,  2.8579e-01,\n",
      "        -2.8797e-01, -5.8996e-02, -3.2436e-02, -4.7009e-03, -1.7052e-01,\n",
      "        -3.4741e-02, -1.1489e-01,  7.5093e-02,  9.9526e-02,  4.8183e-02,\n",
      "        -7.3775e-02, -4.1817e-01,  4.1268e-03,  4.4414e-01, -1.6062e-01,\n",
      "         1.4294e-01, -2.2628e+00, -2.7347e-02,  8.1311e-01,  7.7417e-01,\n",
      "        -2.5639e-01, -1.1576e-01, -1.1982e-01, -2.1363e-01,  2.8429e-02,\n",
      "         2.7261e-01,  3.1026e-02,  9.6782e-02,  6.7769e-03,  1.4082e-01,\n",
      "        -1.3064e-02, -2.9686e-01, -7.9913e-02,  1.9500e-01,  3.1549e-02,\n",
      "         2.8506e-01, -8.7461e-02,  9.0611e-03, -2.0989e-01,  5.3913e-02],\n",
      "       device='cuda:0')\n"
     ]
    }
   ],
   "source": [
    "# Initialize the word embeddings with Glove \n",
    "print('Loading Glove embeddings...')\n",
    "vocab = {}\n",
    "glove_embeddings = []\n",
    "with open('glove.6B/glove.6B.300d.txt', 'r', encoding='utf-8') as f:\n",
    "    for line in f.readlines():\n",
    "        line = line.strip().split()\n",
    "        vocab[line[0]] = len(vocab)\n",
    "        glove_embeddings.append([float(x) for x in line[1:]])\n",
    "print('Done.')\n",
    "glove_embeddings = torch.tensor(glove_embeddings, dtype=torch.float, device=device)\n",
    "print(glove_embeddings.shape)\n",
    "print(glove_embeddings[0])"
   ]
  },
  {
   "cell_type": "code",
   "execution_count": 7,
   "metadata": {},
   "outputs": [],
   "source": [
    "# For words not found in Glove, use random initializations.\n",
    "for token in ptb_train_tokens:\n",
    "    if token not in vocab.keys():\n",
    "        vocab[token] = len(vocab)\n",
    "        glove_embeddings = torch.cat((glove_embeddings, torch.randn(1, glove_embeddings.shape[1], device=device)), dim=0)"
   ]
  },
  {
   "cell_type": "code",
   "execution_count": 8,
   "metadata": {},
   "outputs": [
    {
     "name": "stdout",
     "output_type": "stream",
     "text": [
      "[['i', 'feel', 'any', 'patient', 'with', 'high-risk', 'cancer', 'is', 'getting', 'short', '<unk>', 'if', 'he', 'is', 'not', 'offered', 'this', 'opportunity', '<eos>'], ['there', \"'s\", 'plenty', 'of', '<unk>', 'here', 'but', 'it', 'is', \"n't\", 'always', 'clear', 'whether', 'it', \"'s\", '<unk>', '<eos>'], ['partly', 'in', 'response', 'a', 'bipartisan', 'group', 'of', 'senators', 'from', 'the', 'finance', 'and', 'labor', 'committees', 'is', '<unk>', 'a', 'plan', 'to', 'attract', 'broader', 'support', '<eos>'], ['the', 'survey', 'reported', 'the', 'number', 'of', 'people', 'who', 'said', 'they', 'bowl', 'regularly', 'has', 'fallen', 'to', 'just', 'N', 'N', 'from', 'N', 'N', 'in', 'N', '<eos>'], ['mitsubishi', \"'s\", 'investment', 'in', 'free', 'state', 'is', 'very', 'small', 'less', 'than', '$', 'N', 'million', 'mr.', '<unk>', 'says', '<eos>']]\n",
      "tensor([    41,    998,    130,   3222,     17,  64253,   1647,     14,    881,\n",
      "           636, 400005,     83,     18,     14,     36,   1112,     37,   1539,\n",
      "        400004,     63], device='cuda:0')\n",
      "(tensor([  41,  998,  130, 3222,   17], device='cuda:0'), tensor([  998,   130,  3222,    17, 64253], device='cuda:0'))\n"
     ]
    }
   ],
   "source": [
    "# test the vocab and dataloader\n",
    "ptb_train_dataset = PennTreebankDataset(ptb_train_lines, 5, 10)\n",
    "print(ptb_train_dataset.data_lines[:5])\n",
    "print(ptb_train_dataset.data[:20])\n",
    "print(ptb_train_dataset[0])"
   ]
  },
  {
   "attachments": {},
   "cell_type": "markdown",
   "metadata": {},
   "source": [
    "### Training and Generating "
   ]
  },
  {
   "cell_type": "code",
   "execution_count": 9,
   "metadata": {},
   "outputs": [],
   "source": [
    "# Train and Test an LSTM Language Model\n",
    "class LSTM_LM(nn.Module):\n",
    "    def __init__(self, vocab_size, embedding_dim, hidden_dim, num_layers, dropout_prob, glove_embeddings):\n",
    "        super(LSTM_LM, self).__init__()\n",
    "        self.vocab_size = vocab_size\n",
    "        self.embedding_dim = embedding_dim\n",
    "        self.hidden_dim = hidden_dim\n",
    "        self.num_layers = num_layers\n",
    "        self.dropout_prob = dropout_prob\n",
    "\n",
    "        self.embedding = nn.Embedding(self.vocab_size, self.embedding_dim)\n",
    "        self.embedding.weight.data.copy_(glove_embeddings)\n",
    "        self.embedding.weight.requires_grad = False\n",
    "        self.dropout = nn.Dropout(self.dropout_prob)\n",
    "        self.lstm = nn.LSTM(self.embedding_dim, self.hidden_dim, self.num_layers, dropout=self.dropout_prob, batch_first=True)\n",
    "        self.linear = nn.Linear(self.hidden_dim, self.vocab_size)\n",
    "        self.softmax = nn.LogSoftmax(dim=2)\n",
    "\n",
    "\n",
    "    def forward(self, inputs, hidden):\n",
    "        embedding = self.embedding(inputs)\n",
    "        embedding = self.dropout(embedding)\n",
    "        lstm_out, hidden = self.lstm(embedding, hidden)\n",
    "        lstm_out = self.dropout(lstm_out)\n",
    "        outputs = self.linear(lstm_out)\n",
    "        outputs = self.softmax(outputs)\n",
    "        return outputs, hidden\n",
    "\n",
    "    def init_hidden(self, batch_size):\n",
    "        weight = next(self.parameters()).data\n",
    "        return (weight.new(self.num_layers, batch_size, self.hidden_dim).zero_().to(device),\n",
    "                weight.new(self.num_layers, batch_size, self.hidden_dim).zero_().to(device))\n",
    "        \n",
    "    def reuse_hidden(self, hidden):\n",
    "        return (hidden[0].detach(), hidden[1].detach())"
   ]
  },
  {
   "cell_type": "code",
   "execution_count": 23,
   "metadata": {},
   "outputs": [],
   "source": [
    "# Train and Test an RNN Language Model\n",
    "class RNN_LM(nn.Module):\n",
    "    def __init__(self, vocab_size, embedding_dim, hidden_dim, num_layers, dropout_prob, glove_embeddings):\n",
    "        super(RNN_LM, self).__init__()\n",
    "        self.vocab_size = vocab_size\n",
    "        self.embedding_dim = embedding_dim\n",
    "        self.hidden_dim = hidden_dim\n",
    "        self.num_layers = num_layers\n",
    "        self.dropout_prob = dropout_prob\n",
    "\n",
    "        self.embedding = nn.Embedding(self.vocab_size, self.embedding_dim)\n",
    "        self.embedding.weight.data.copy_(glove_embeddings)\n",
    "        self.embedding.weight.requires_grad = False\n",
    "        self.dropout = nn.Dropout(self.dropout_prob)\n",
    "        self.rnn = nn.RNN(self.embedding_dim, self.hidden_dim, self.num_layers, dropout=self.dropout_prob, batch_first=True)\n",
    "        self.linear = nn.Linear(self.hidden_dim, self.vocab_size)\n",
    "        self.softmax = nn.LogSoftmax(dim=2)\n",
    "\n",
    "\n",
    "    def forward(self, inputs, hidden):\n",
    "        embedding = self.embedding(inputs)\n",
    "        embedding = self.dropout(embedding)\n",
    "        rnn_out, hidden = self.rnn(embedding, hidden)\n",
    "        rnn_out = self.dropout(rnn_out)\n",
    "        outputs = self.linear(rnn_out)\n",
    "        outputs = self.softmax(outputs)\n",
    "        return outputs, hidden\n",
    "    \n",
    "    def init_hidden(self, batch_size):\n",
    "        weight = next(self.parameters()).data\n",
    "        return weight.new(self.num_layers, batch_size, self.hidden_dim).zero_().to(device)\n",
    "    \n",
    "    def reuse_hidden(self, hidden):\n",
    "        return hidden.detach()"
   ]
  },
  {
   "cell_type": "code",
   "execution_count": 10,
   "metadata": {},
   "outputs": [],
   "source": [
    "# Train the model\n",
    "def train(model, train_dataLoader, criterion, optimizer, reuse=True):\n",
    "    model.train()\n",
    "    epoch_loss = 0\n",
    "    hidden = model.init_hidden(train_dataLoader.dataset.batch_size)\n",
    "    for inputs, targets in train_dataLoader:\n",
    "        inputs = inputs.to(device)\n",
    "        targets = targets.to(device)\n",
    "        if reuse:\n",
    "            hidden = model.reuse_hidden(hidden)\n",
    "        else:\n",
    "            hidden = model.init_hidden(train_dataLoader.dataset.batch_size)\n",
    "        model.zero_grad()\n",
    "        outputs, hidden = model(inputs, hidden)\n",
    "        loss = criterion(outputs.view(-1, model.vocab_size), targets.view(-1))\n",
    "        loss.backward()\n",
    "        optimizer.step()\n",
    "        epoch_loss += loss.item()\n",
    "    return epoch_loss / len(train_dataLoader)"
   ]
  },
  {
   "cell_type": "code",
   "execution_count": 11,
   "metadata": {},
   "outputs": [],
   "source": [
    "# Test the model\n",
    "def test(model, test_dataLoader, criterion):\n",
    "    model.eval()\n",
    "    epoch_loss = 0\n",
    "    hidden = model.init_hidden(test_dataLoader.dataset.batch_size)\n",
    "    with torch.no_grad():\n",
    "        for inputs, targets in test_dataLoader:\n",
    "            inputs = inputs.to(device)\n",
    "            targets = targets.to(device)\n",
    "            outputs, hidden = model(inputs, hidden)\n",
    "            loss = criterion(outputs.view(-1, model.vocab_size), targets.view(-1))\n",
    "            epoch_loss += loss.item()\n",
    "    return epoch_loss / len(test_dataLoader)"
   ]
  },
  {
   "cell_type": "code",
   "execution_count": 12,
   "metadata": {},
   "outputs": [],
   "source": [
    "# args\n",
    "args = {\n",
    "    'vocab_size': len(vocab),\n",
    "    'embedding_dim': 300,\n",
    "    'hidden_dim': 300,\n",
    "    'num_layers': 2,\n",
    "    'dropout_prob': 0.5,\n",
    "    'shuffle': False,\n",
    "    'reuse_hidden': True,\n",
    "    'glove_embeddings': glove_embeddings,\n",
    "    'lr': 0.001,\n",
    "    'epochs': 30,\n",
    "    'batch_size': 32,\n",
    "    'sequence_length': 10,\n",
    "    'save_path': 'assets/'\n",
    "}"
   ]
  },
  {
   "cell_type": "code",
   "execution_count": 24,
   "metadata": {},
   "outputs": [
    {
     "name": "stdout",
     "output_type": "stream",
     "text": [
      "Epoch: 0, Train Loss: 6.576207147503106, Valid Loss: 5.830596270169893, Valid Perplexity: 340.56168531641254\n",
      "Epoch: 1, Train Loss: 6.0530720659266555, Valid Loss: 5.609255682008969, Valid Perplexity: 272.9410074777149\n",
      "Epoch: 2, Train Loss: 5.929843282780035, Valid Loss: 5.5659644074715375, Valid Perplexity: 261.3771562801755\n",
      "Epoch: 3, Train Loss: 5.86322358856146, Valid Loss: 5.542021010784393, Valid Perplexity: 255.19322690675276\n",
      "Epoch: 4, Train Loss: 5.821831322313935, Valid Loss: 5.501334793299527, Valid Perplexity: 245.01876349339693\n",
      "Epoch: 5, Train Loss: 5.788870190505264, Valid Loss: 5.498876594844923, Valid Perplexity: 244.41719843370342\n",
      "Epoch: 6, Train Loss: 5.766210574533716, Valid Loss: 5.458055677384953, Valid Perplexity: 234.64076321846667\n",
      "Epoch: 7, Train Loss: 5.74587117956184, Valid Loss: 5.448584924715268, Valid Perplexity: 232.4290285117868\n",
      "Epoch: 8, Train Loss: 5.732465921582644, Valid Loss: 5.454026793274111, Valid Perplexity: 233.69732455445177\n",
      "Epoch: 9, Train Loss: 5.72094327106508, Valid Loss: 5.437774439350812, Valid Perplexity: 229.92989068599312\n",
      "Epoch: 10, Train Loss: 5.713603718822679, Valid Loss: 5.428906853800487, Valid Perplexity: 227.89998120938327\n",
      "Epoch: 11, Train Loss: 5.704583060112193, Valid Loss: 5.426127812058005, Valid Perplexity: 227.26751687792776\n",
      "Epoch: 12, Train Loss: 5.701320933904898, Valid Loss: 5.424011363809232, Valid Perplexity: 226.7870255866619\n",
      "Epoch: 13, Train Loss: 5.694844720104454, Valid Loss: 5.423875304340954, Valid Perplexity: 226.75617116361408\n",
      "Epoch: 14, Train Loss: 5.694815011391096, Valid Loss: 5.424154120738021, Valid Perplexity: 226.8194033169416\n",
      "Epoch: 15, Train Loss: 5.689565017729617, Valid Loss: 5.430878401527289, Valid Perplexity: 228.34974011416358\n",
      "Epoch: 16, Train Loss: 5.68923218608276, Valid Loss: 5.427944954405439, Valid Perplexity: 227.68086975380933\n",
      "Epoch: 17, Train Loss: 5.686283520027136, Valid Loss: 5.418296282052269, Valid Perplexity: 225.49461582547937\n",
      "Epoch: 18, Train Loss: 5.687256916599637, Valid Loss: 5.419696989030461, Valid Perplexity: 225.81068901869705\n",
      "Epoch: 19, Train Loss: 5.687316480100112, Valid Loss: 5.424982786903265, Valid Perplexity: 227.0074387806444\n",
      "Epoch: 20, Train Loss: 5.688124238223621, Valid Loss: 5.415060976718334, Valid Perplexity: 224.76625076912995\n",
      "Epoch: 21, Train Loss: 5.6883779553569465, Valid Loss: 5.431001792200431, Valid Perplexity: 228.37791808072149\n",
      "Epoch: 22, Train Loss: 5.6897312901226345, Valid Loss: 5.432568868967538, Valid Perplexity: 228.7360843740079\n",
      "Epoch: 23, Train Loss: 5.694459024582406, Valid Loss: 5.435819862099041, Valid Perplexity: 229.48091387502507\n",
      "Epoch: 24, Train Loss: 5.690934502782521, Valid Loss: 5.430530746657073, Valid Perplexity: 228.2703670129225\n",
      "Epoch: 25, Train Loss: 5.691399995031975, Valid Loss: 5.429959482697368, Valid Perplexity: 228.14000161925009\n",
      "Epoch: 26, Train Loss: 5.696407321563081, Valid Loss: 5.432376751421433, Valid Perplexity: 228.69214437972948\n",
      "Epoch: 27, Train Loss: 5.695907142829482, Valid Loss: 5.432451980092243, Valid Perplexity: 228.70934923291688\n",
      "Epoch: 28, Train Loss: 5.698272862414849, Valid Loss: 5.439563270035486, Valid Perplexity: 230.34156442730952\n",
      "Epoch: 29, Train Loss: 5.698762488095092, Valid Loss: 5.436949266126453, Valid Perplexity: 229.74023695607056\n"
     ]
    }
   ],
   "source": [
    "## Train \n",
    "train_dataLoader = DataLoader(dataset=PennTreebankDataset(ptb_train_lines, args['sequence_length'], args['batch_size']), batch_size=args['batch_size'], shuffle=args['shuffle'])\n",
    "valid_dataLoader = DataLoader(dataset=PennTreebankDataset(ptb_valid_lines, args['sequence_length'], args['batch_size']), batch_size=args['batch_size'], shuffle=False)\n",
    "model = RNN_LM(args['vocab_size'], args['embedding_dim'], args['hidden_dim'], args['num_layers'], args['dropout_prob'], args['glove_embeddings'])\n",
    "model.to(device)\n",
    "criterion = nn.NLLLoss()\n",
    "optimizer = optim.Adam(model.parameters(), lr=args['lr'])\n",
    "train_losses = []\n",
    "valid_losses = []\n",
    "for epoch in range(args['epochs']):\n",
    "    train_dataLoader.dataset.init_epoch()\n",
    "    train_loss = train(model, train_dataLoader, criterion, optimizer, reuse=args['reuse_hidden'])\n",
    "    valid_loss = test(model, valid_dataLoader, criterion)\n",
    "    train_losses.append(train_loss)\n",
    "    valid_losses.append(valid_loss)\n",
    "    valid_perplexity = math.exp(valid_loss)\n",
    "    print('Epoch: {}, Train Loss: {}, Valid Loss: {}, Valid Perplexity: {}'.format(epoch, train_loss, valid_loss, valid_perplexity))\n"
   ]
  },
  {
   "attachments": {},
   "cell_type": "markdown",
   "metadata": {},
   "source": [
    "### Plot curves and save model"
   ]
  },
  {
   "cell_type": "code",
   "execution_count": 25,
   "metadata": {},
   "outputs": [
    {
     "data": {
      "image/png": "[encoded data removed]",
      "text/plain": [
       "<Figure size 640x480 with 1 Axes>"
      ]
     },
     "metadata": {},
     "output_type": "display_data"
    }
   ],
   "source": [
    "## plot the loss curve and save the model\n",
    "plt.plot(train_losses, label='train loss')\n",
    "plt.plot(valid_losses, label='valid loss')\n",
    "plt.legend()\n",
    "## save with utc time\n",
    "torch.save(model.state_dict(), args['save_path'] + 'models/RNN_LM_' + datetime.utcnow().strftime(\"%Y-%m-%d-%H%MZ\") + '.pt')\n",
    "plt.savefig(args['save_path'] + 'curves/RNN_loss_curve_' + datetime.utcnow().strftime(\"%Y-%m-%d-%H%MZ\") + '.png')"
   ]
  },
  {
   "cell_type": "code",
   "execution_count": 27,
   "metadata": {},
   "outputs": [
    {
     "name": "stdout",
     "output_type": "stream",
     "text": [
      "Test Loss: 5.3347, Valid Loss: 5.4381, Test Perplexity: 207.4141, Valid Perplexity: 230.0043\n"
     ]
    }
   ],
   "source": [
    "## Test\n",
    "test_dataLoader = DataLoader(dataset=PennTreebankDataset(ptb_test_lines, args['sequence_length'], args['batch_size']), batch_size=args['batch_size'], shuffle=False)\n",
    "valid_dataLoader = DataLoader(dataset=PennTreebankDataset(ptb_valid_lines, args['sequence_length'], args['batch_size']), batch_size=args['batch_size'], shuffle=False)\n",
    "model = LSTM_LM(args['vocab_size'], args['embedding_dim'], args['hidden_dim'], args['num_layers'], args['dropout_prob'], args['glove_embeddings'])\n",
    "model.load_state_dict(torch.load(args['save_path'] + 'models/case3_LM_2023-10-24-0811Z.pt'))\n",
    "model.to(device)\n",
    "criterion = nn.NLLLoss()\n",
    "test_loss = test(model, test_dataLoader, criterion)\n",
    "valid_loss = test(model, valid_dataLoader, criterion)\n",
    "test_perplexity = math.exp(test_loss)\n",
    "valid_perplexity = math.exp(valid_loss)\n",
    "print('Test Loss: {:.4f}, Valid Loss: {:.4f}, Test Perplexity: {:.4f}, Valid Perplexity: {:.4f}'.format(test_loss, valid_loss, test_perplexity, valid_perplexity))"
   ]
  },
  {
   "attachments": {},
   "cell_type": "markdown",
   "metadata": {},
   "source": [
    "### Generation"
   ]
  },
  {
   "cell_type": "code",
   "execution_count": 31,
   "metadata": {},
   "outputs": [],
   "source": [
    "def generate(model, seed, length):\n",
    "    model.eval()\n",
    "    with torch.no_grad():\n",
    "        inputs = torch.tensor([[vocab[token] for token in seed]]).to(device)\n",
    "        outputs = [vocab[token] for token in seed]\n",
    "        for i in range(length):\n",
    "            hidden = model.init_hidden(1)\n",
    "            output, hidden = model(inputs, hidden)\n",
    "            output = output.view(-1, model.vocab_size)\n",
    "            predict_prob = torch.exp(output[-1])\n",
    "            sample = torch.multinomial(predict_prob, 1)\n",
    "            outputs.append(sample.item())\n",
    "            inputs = torch.tensor([outputs]).to(device)\n",
    "            \n",
    "    return ' '.join([list(vocab.keys())[list(vocab.values()).index(i)] for i in outputs])"
   ]
  },
  {
   "cell_type": "code",
   "execution_count": 34,
   "metadata": {},
   "outputs": [
    {
     "name": "stdout",
     "output_type": "stream",
     "text": [
      "the company will charge $ N billion in acquisitions it results will reach its income per the share to $\n"
     ]
    }
   ],
   "source": [
    "best_model = LSTM_LM(args['vocab_size'], args['embedding_dim'], args['hidden_dim'], args['num_layers'], args['dropout_prob'], args['glove_embeddings'])\n",
    "best_model.load_state_dict(torch.load(args['save_path'] + 'models/case3_LM_2023-10-24-0811Z.pt'))\n",
    "best_model.to(device)\n",
    "seed = ['the','company', 'will', 'charge', '$']\n",
    "print(generate(best_model, seed, 15))"
   ]
  },
  {
   "attachments": {},
   "cell_type": "markdown",
   "metadata": {},
   "source": [
    "### Test generation model"
   ]
  },
  {
   "cell_type": "code",
   "execution_count": 30,
   "metadata": {},
   "outputs": [
    {
     "name": "stdout",
     "output_type": "stream",
     "text": [
      "we were able to get advertisers to <unk> the <unk> of the <unk> <eos> the <unk> <unk>\n",
      "we were able to get advertisers to <unk> the <unk> of the <unk> <eos> the <unk> <unk>\n",
      "we were able to get advertisers to <unk> the <unk> of the <unk> <eos> the <unk>\n",
      "we were able to get advertisers to <unk> the <unk> of the <unk> <eos> the <unk>\n",
      "we were <unk> <eos> the <unk> <unk> <unk> <unk> <unk> <unk> <unk>\n",
      "and som <unk> <unk> <unk> <unk> <unk> <unk> <unk> <unk> <unk> <unk>\n",
      "are you <unk> <eos> the <unk> <unk> <unk> <unk> <unk> <unk> <unk>\n",
      "beauty is <unk> <eos> the <unk> <unk> <unk> <unk> <unk> <unk> <unk>\n"
     ]
    },
    {
     "ename": "RuntimeError",
     "evalue": "Expected tensor for argument #1 'indices' to have one of the following scalar types: Long, Int; but got torch.cuda.FloatTensor instead (while checking arguments for embedding)",
     "output_type": "error",
     "traceback": [
      "\u001b[0;31m---------------------------------------------------------------------------\u001b[0m",
      "\u001b[0;31mRuntimeError\u001b[0m                              Traceback (most recent call last)",
      "Cell \u001b[0;32mIn[30], line 4\u001b[0m\n\u001b[1;32m      2\u001b[0m sequence \u001b[39m=\u001b[39m \u001b[39minput\u001b[39m()\n\u001b[1;32m      3\u001b[0m seed \u001b[39m=\u001b[39m sequence\u001b[39m.\u001b[39mstrip()\u001b[39m.\u001b[39msplit()\n\u001b[0;32m----> 4\u001b[0m \u001b[39mprint\u001b[39m(generate(best_model,seed, \u001b[39m10\u001b[39;49m))\n",
      "Cell \u001b[0;32mIn[15], line 8\u001b[0m, in \u001b[0;36mgenerate\u001b[0;34m(model, seed, length)\u001b[0m\n\u001b[1;32m      6\u001b[0m \u001b[39mfor\u001b[39;00m i \u001b[39min\u001b[39;00m \u001b[39mrange\u001b[39m(length):\n\u001b[1;32m      7\u001b[0m     hidden \u001b[39m=\u001b[39m model\u001b[39m.\u001b[39minit_hidden(\u001b[39m1\u001b[39m)\n\u001b[0;32m----> 8\u001b[0m     output, hidden \u001b[39m=\u001b[39m model(inputs, hidden)\n\u001b[1;32m      9\u001b[0m     output \u001b[39m=\u001b[39m output\u001b[39m.\u001b[39mview(\u001b[39m-\u001b[39m\u001b[39m1\u001b[39m, model\u001b[39m.\u001b[39mvocab_size)\n\u001b[1;32m     10\u001b[0m     idx \u001b[39m=\u001b[39m np\u001b[39m.\u001b[39margmax(output\u001b[39m.\u001b[39mcpu()\u001b[39m.\u001b[39mnumpy(), axis\u001b[39m=\u001b[39m\u001b[39m1\u001b[39m)\n",
      "File \u001b[0;32m~/miniconda3/envs/NLP/lib/python3.11/site-packages/torch/nn/modules/module.py:1518\u001b[0m, in \u001b[0;36mModule._wrapped_call_impl\u001b[0;34m(self, *args, **kwargs)\u001b[0m\n\u001b[1;32m   1516\u001b[0m     \u001b[39mreturn\u001b[39;00m \u001b[39mself\u001b[39m\u001b[39m.\u001b[39m_compiled_call_impl(\u001b[39m*\u001b[39margs, \u001b[39m*\u001b[39m\u001b[39m*\u001b[39mkwargs)  \u001b[39m# type: ignore[misc]\u001b[39;00m\n\u001b[1;32m   1517\u001b[0m \u001b[39melse\u001b[39;00m:\n\u001b[0;32m-> 1518\u001b[0m     \u001b[39mreturn\u001b[39;00m \u001b[39mself\u001b[39;49m\u001b[39m.\u001b[39;49m_call_impl(\u001b[39m*\u001b[39;49margs, \u001b[39m*\u001b[39;49m\u001b[39m*\u001b[39;49mkwargs)\n",
      "File \u001b[0;32m~/miniconda3/envs/NLP/lib/python3.11/site-packages/torch/nn/modules/module.py:1527\u001b[0m, in \u001b[0;36mModule._call_impl\u001b[0;34m(self, *args, **kwargs)\u001b[0m\n\u001b[1;32m   1522\u001b[0m \u001b[39m# If we don't have any hooks, we want to skip the rest of the logic in\u001b[39;00m\n\u001b[1;32m   1523\u001b[0m \u001b[39m# this function, and just call forward.\u001b[39;00m\n\u001b[1;32m   1524\u001b[0m \u001b[39mif\u001b[39;00m \u001b[39mnot\u001b[39;00m (\u001b[39mself\u001b[39m\u001b[39m.\u001b[39m_backward_hooks \u001b[39mor\u001b[39;00m \u001b[39mself\u001b[39m\u001b[39m.\u001b[39m_backward_pre_hooks \u001b[39mor\u001b[39;00m \u001b[39mself\u001b[39m\u001b[39m.\u001b[39m_forward_hooks \u001b[39mor\u001b[39;00m \u001b[39mself\u001b[39m\u001b[39m.\u001b[39m_forward_pre_hooks\n\u001b[1;32m   1525\u001b[0m         \u001b[39mor\u001b[39;00m _global_backward_pre_hooks \u001b[39mor\u001b[39;00m _global_backward_hooks\n\u001b[1;32m   1526\u001b[0m         \u001b[39mor\u001b[39;00m _global_forward_hooks \u001b[39mor\u001b[39;00m _global_forward_pre_hooks):\n\u001b[0;32m-> 1527\u001b[0m     \u001b[39mreturn\u001b[39;00m forward_call(\u001b[39m*\u001b[39;49margs, \u001b[39m*\u001b[39;49m\u001b[39m*\u001b[39;49mkwargs)\n\u001b[1;32m   1529\u001b[0m \u001b[39mtry\u001b[39;00m:\n\u001b[1;32m   1530\u001b[0m     result \u001b[39m=\u001b[39m \u001b[39mNone\u001b[39;00m\n",
      "Cell \u001b[0;32mIn[8], line 21\u001b[0m, in \u001b[0;36mLSTM_LM.forward\u001b[0;34m(self, inputs, hidden)\u001b[0m\n\u001b[1;32m     20\u001b[0m \u001b[39mdef\u001b[39;00m \u001b[39mforward\u001b[39m(\u001b[39mself\u001b[39m, inputs, hidden):\n\u001b[0;32m---> 21\u001b[0m     embedding \u001b[39m=\u001b[39m \u001b[39mself\u001b[39;49m\u001b[39m.\u001b[39;49membedding(inputs)\n\u001b[1;32m     22\u001b[0m     embedding \u001b[39m=\u001b[39m \u001b[39mself\u001b[39m\u001b[39m.\u001b[39mdropout(embedding)\n\u001b[1;32m     23\u001b[0m     lstm_out, hidden \u001b[39m=\u001b[39m \u001b[39mself\u001b[39m\u001b[39m.\u001b[39mlstm(embedding, hidden)\n",
      "File \u001b[0;32m~/miniconda3/envs/NLP/lib/python3.11/site-packages/torch/nn/modules/module.py:1518\u001b[0m, in \u001b[0;36mModule._wrapped_call_impl\u001b[0;34m(self, *args, **kwargs)\u001b[0m\n\u001b[1;32m   1516\u001b[0m     \u001b[39mreturn\u001b[39;00m \u001b[39mself\u001b[39m\u001b[39m.\u001b[39m_compiled_call_impl(\u001b[39m*\u001b[39margs, \u001b[39m*\u001b[39m\u001b[39m*\u001b[39mkwargs)  \u001b[39m# type: ignore[misc]\u001b[39;00m\n\u001b[1;32m   1517\u001b[0m \u001b[39melse\u001b[39;00m:\n\u001b[0;32m-> 1518\u001b[0m     \u001b[39mreturn\u001b[39;00m \u001b[39mself\u001b[39;49m\u001b[39m.\u001b[39;49m_call_impl(\u001b[39m*\u001b[39;49margs, \u001b[39m*\u001b[39;49m\u001b[39m*\u001b[39;49mkwargs)\n",
      "File \u001b[0;32m~/miniconda3/envs/NLP/lib/python3.11/site-packages/torch/nn/modules/module.py:1527\u001b[0m, in \u001b[0;36mModule._call_impl\u001b[0;34m(self, *args, **kwargs)\u001b[0m\n\u001b[1;32m   1522\u001b[0m \u001b[39m# If we don't have any hooks, we want to skip the rest of the logic in\u001b[39;00m\n\u001b[1;32m   1523\u001b[0m \u001b[39m# this function, and just call forward.\u001b[39;00m\n\u001b[1;32m   1524\u001b[0m \u001b[39mif\u001b[39;00m \u001b[39mnot\u001b[39;00m (\u001b[39mself\u001b[39m\u001b[39m.\u001b[39m_backward_hooks \u001b[39mor\u001b[39;00m \u001b[39mself\u001b[39m\u001b[39m.\u001b[39m_backward_pre_hooks \u001b[39mor\u001b[39;00m \u001b[39mself\u001b[39m\u001b[39m.\u001b[39m_forward_hooks \u001b[39mor\u001b[39;00m \u001b[39mself\u001b[39m\u001b[39m.\u001b[39m_forward_pre_hooks\n\u001b[1;32m   1525\u001b[0m         \u001b[39mor\u001b[39;00m _global_backward_pre_hooks \u001b[39mor\u001b[39;00m _global_backward_hooks\n\u001b[1;32m   1526\u001b[0m         \u001b[39mor\u001b[39;00m _global_forward_hooks \u001b[39mor\u001b[39;00m _global_forward_pre_hooks):\n\u001b[0;32m-> 1527\u001b[0m     \u001b[39mreturn\u001b[39;00m forward_call(\u001b[39m*\u001b[39;49margs, \u001b[39m*\u001b[39;49m\u001b[39m*\u001b[39;49mkwargs)\n\u001b[1;32m   1529\u001b[0m \u001b[39mtry\u001b[39;00m:\n\u001b[1;32m   1530\u001b[0m     result \u001b[39m=\u001b[39m \u001b[39mNone\u001b[39;00m\n",
      "File \u001b[0;32m~/miniconda3/envs/NLP/lib/python3.11/site-packages/torch/nn/modules/sparse.py:162\u001b[0m, in \u001b[0;36mEmbedding.forward\u001b[0;34m(self, input)\u001b[0m\n\u001b[1;32m    161\u001b[0m \u001b[39mdef\u001b[39;00m \u001b[39mforward\u001b[39m(\u001b[39mself\u001b[39m, \u001b[39minput\u001b[39m: Tensor) \u001b[39m-\u001b[39m\u001b[39m>\u001b[39m Tensor:\n\u001b[0;32m--> 162\u001b[0m     \u001b[39mreturn\u001b[39;00m F\u001b[39m.\u001b[39;49membedding(\n\u001b[1;32m    163\u001b[0m         \u001b[39minput\u001b[39;49m, \u001b[39mself\u001b[39;49m\u001b[39m.\u001b[39;49mweight, \u001b[39mself\u001b[39;49m\u001b[39m.\u001b[39;49mpadding_idx, \u001b[39mself\u001b[39;49m\u001b[39m.\u001b[39;49mmax_norm,\n\u001b[1;32m    164\u001b[0m         \u001b[39mself\u001b[39;49m\u001b[39m.\u001b[39;49mnorm_type, \u001b[39mself\u001b[39;49m\u001b[39m.\u001b[39;49mscale_grad_by_freq, \u001b[39mself\u001b[39;49m\u001b[39m.\u001b[39;49msparse)\n",
      "File \u001b[0;32m~/miniconda3/envs/NLP/lib/python3.11/site-packages/torch/nn/functional.py:2233\u001b[0m, in \u001b[0;36membedding\u001b[0;34m(input, weight, padding_idx, max_norm, norm_type, scale_grad_by_freq, sparse)\u001b[0m\n\u001b[1;32m   2227\u001b[0m     \u001b[39m# Note [embedding_renorm set_grad_enabled]\u001b[39;00m\n\u001b[1;32m   2228\u001b[0m     \u001b[39m# XXX: equivalent to\u001b[39;00m\n\u001b[1;32m   2229\u001b[0m     \u001b[39m# with torch.no_grad():\u001b[39;00m\n\u001b[1;32m   2230\u001b[0m     \u001b[39m#   torch.embedding_renorm_\u001b[39;00m\n\u001b[1;32m   2231\u001b[0m     \u001b[39m# remove once script supports set_grad_enabled\u001b[39;00m\n\u001b[1;32m   2232\u001b[0m     _no_grad_embedding_renorm_(weight, \u001b[39minput\u001b[39m, max_norm, norm_type)\n\u001b[0;32m-> 2233\u001b[0m \u001b[39mreturn\u001b[39;00m torch\u001b[39m.\u001b[39;49membedding(weight, \u001b[39minput\u001b[39;49m, padding_idx, scale_grad_by_freq, sparse)\n",
      "\u001b[0;31mRuntimeError\u001b[0m: Expected tensor for argument #1 'indices' to have one of the following scalar types: Long, Int; but got torch.cuda.FloatTensor instead (while checking arguments for embedding)"
     ]
    }
   ],
   "source": [
    "for i in range(10):\n",
    "    sequence = input()\n",
    "    seed = sequence.strip().split()\n",
    "    print(generate(best_model,seed, 10))"
   ]
  }
 ],
 "metadata": {
  "kernelspec": {
   "display_name": "NLP",
   "language": "python",
   "name": "python3"
  },
  "language_info": {
   "codemirror_mode": {
    "name": "ipython",
    "version": 3
   },
   "file_extension": ".py",
   "mimetype": "text/x-python",
   "name": "python",
   "nbconvert_exporter": "python",
   "pygments_lexer": "ipython3",
   "version": "3.11.5"
  },
  "orig_nbformat": 4,
  "vscode": {
   "interpreter": {
    "hash": "7bf9b6708bea9f75880765e6879768f88c54db0b01e9f79b6f29681d96d3dcd7"
   }
  }
 },
 "nbformat": 4,
 "nbformat_minor": 2
}
